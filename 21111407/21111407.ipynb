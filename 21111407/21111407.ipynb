{
 "cells": [
  {
   "cell_type": "code",
   "execution_count": 1,
   "id": "e06604db-fe69-424b-81b0-2de1fb582e8c",
   "metadata": {},
   "outputs": [],
   "source": [
    "import pandas as pd\n",
    "import numpy as np\n",
    "import matplotlib.pyplot as plt\n",
    "import numpy.linalg as lin"
   ]
  },
  {
   "cell_type": "markdown",
   "id": "1cfdc27b-3ea3-4001-bf1e-228a05b0492e",
   "metadata": {},
   "source": [
    "### Importing uci automobile dataset \n",
    "Data is read from 'automobile.csv' in pandas dataframe 'cdata'. And then adding header to dataframe from 'header'"
   ]
  },
  {
   "cell_type": "code",
   "execution_count": 2,
   "id": "83d16f37-5906-477c-a7ba-81bf2f77e519",
   "metadata": {},
   "outputs": [
    {
     "data": {
      "text/html": [
       "<div>\n",
       "<style scoped>\n",
       "    .dataframe tbody tr th:only-of-type {\n",
       "        vertical-align: middle;\n",
       "    }\n",
       "\n",
       "    .dataframe tbody tr th {\n",
       "        vertical-align: top;\n",
       "    }\n",
       "\n",
       "    .dataframe thead th {\n",
       "        text-align: right;\n",
       "    }\n",
       "</style>\n",
       "<table border=\"1\" class=\"dataframe\">\n",
       "  <thead>\n",
       "    <tr style=\"text-align: right;\">\n",
       "      <th></th>\n",
       "      <th>symboling</th>\n",
       "      <th>normalized_losses</th>\n",
       "      <th>make</th>\n",
       "      <th>fuel_type</th>\n",
       "      <th>aspiration</th>\n",
       "      <th>num_of_doors</th>\n",
       "      <th>body_style</th>\n",
       "      <th>drive_wheels</th>\n",
       "      <th>engine_location</th>\n",
       "      <th>wheel_base</th>\n",
       "      <th>...</th>\n",
       "      <th>engine_size</th>\n",
       "      <th>fuel_system</th>\n",
       "      <th>bore</th>\n",
       "      <th>stroke</th>\n",
       "      <th>compression_ratio</th>\n",
       "      <th>horsepower</th>\n",
       "      <th>peak_rpm</th>\n",
       "      <th>city_mpg</th>\n",
       "      <th>highway_mpg</th>\n",
       "      <th>price</th>\n",
       "    </tr>\n",
       "  </thead>\n",
       "  <tbody>\n",
       "    <tr>\n",
       "      <th>0</th>\n",
       "      <td>3</td>\n",
       "      <td>?</td>\n",
       "      <td>alfa-romero</td>\n",
       "      <td>gas</td>\n",
       "      <td>std</td>\n",
       "      <td>two</td>\n",
       "      <td>convertible</td>\n",
       "      <td>rwd</td>\n",
       "      <td>front</td>\n",
       "      <td>88.6</td>\n",
       "      <td>...</td>\n",
       "      <td>130</td>\n",
       "      <td>mpfi</td>\n",
       "      <td>3.47</td>\n",
       "      <td>2.68</td>\n",
       "      <td>9.0</td>\n",
       "      <td>111</td>\n",
       "      <td>5000</td>\n",
       "      <td>21</td>\n",
       "      <td>27</td>\n",
       "      <td>13495</td>\n",
       "    </tr>\n",
       "    <tr>\n",
       "      <th>1</th>\n",
       "      <td>3</td>\n",
       "      <td>?</td>\n",
       "      <td>alfa-romero</td>\n",
       "      <td>gas</td>\n",
       "      <td>std</td>\n",
       "      <td>two</td>\n",
       "      <td>convertible</td>\n",
       "      <td>rwd</td>\n",
       "      <td>front</td>\n",
       "      <td>88.6</td>\n",
       "      <td>...</td>\n",
       "      <td>130</td>\n",
       "      <td>mpfi</td>\n",
       "      <td>3.47</td>\n",
       "      <td>2.68</td>\n",
       "      <td>9.0</td>\n",
       "      <td>111</td>\n",
       "      <td>5000</td>\n",
       "      <td>21</td>\n",
       "      <td>27</td>\n",
       "      <td>16500</td>\n",
       "    </tr>\n",
       "    <tr>\n",
       "      <th>2</th>\n",
       "      <td>1</td>\n",
       "      <td>?</td>\n",
       "      <td>alfa-romero</td>\n",
       "      <td>gas</td>\n",
       "      <td>std</td>\n",
       "      <td>two</td>\n",
       "      <td>hatchback</td>\n",
       "      <td>rwd</td>\n",
       "      <td>front</td>\n",
       "      <td>94.5</td>\n",
       "      <td>...</td>\n",
       "      <td>152</td>\n",
       "      <td>mpfi</td>\n",
       "      <td>2.68</td>\n",
       "      <td>3.47</td>\n",
       "      <td>9.0</td>\n",
       "      <td>154</td>\n",
       "      <td>5000</td>\n",
       "      <td>19</td>\n",
       "      <td>26</td>\n",
       "      <td>16500</td>\n",
       "    </tr>\n",
       "  </tbody>\n",
       "</table>\n",
       "<p>3 rows × 26 columns</p>\n",
       "</div>"
      ],
      "text/plain": [
       "   symboling normalized_losses         make fuel_type aspiration num_of_doors  \\\n",
       "0          3                 ?  alfa-romero       gas        std          two   \n",
       "1          3                 ?  alfa-romero       gas        std          two   \n",
       "2          1                 ?  alfa-romero       gas        std          two   \n",
       "\n",
       "    body_style drive_wheels engine_location  wheel_base  ...  engine_size  \\\n",
       "0  convertible          rwd           front        88.6  ...          130   \n",
       "1  convertible          rwd           front        88.6  ...          130   \n",
       "2    hatchback          rwd           front        94.5  ...          152   \n",
       "\n",
       "   fuel_system  bore  stroke compression_ratio horsepower  peak_rpm city_mpg  \\\n",
       "0         mpfi  3.47    2.68               9.0        111      5000       21   \n",
       "1         mpfi  3.47    2.68               9.0        111      5000       21   \n",
       "2         mpfi  2.68    3.47               9.0        154      5000       19   \n",
       "\n",
       "  highway_mpg  price  \n",
       "0          27  13495  \n",
       "1          27  16500  \n",
       "2          26  16500  \n",
       "\n",
       "[3 rows x 26 columns]"
      ]
     },
     "execution_count": 2,
     "metadata": {},
     "output_type": "execute_result"
    }
   ],
   "source": [
    "#importing dataset\n",
    "cdata = pd.read_csv(\"automobile.csv\",header=None) \n",
    "# Adding header to dataset\n",
    "header = ['symboling', 'normalized_losses', 'make', 'fuel_type', 'aspiration', 'num_of_doors', 'body_style', 'drive_wheels', 'engine_location', 'wheel_base', 'length', 'width', 'height', 'curb-weight', 'engine_type', 'num_of_cylinders', 'engine_size', 'fuel_system', 'bore', 'stroke', 'compression_ratio', 'horsepower', 'peak_rpm', 'city_mpg', 'highway_mpg', 'price']\n",
    "cdata.to_csv(\"dcdata.csv\", header=header, index=False)\n",
    "cdata = pd.read_csv(\"dcdata.csv\") \n",
    "cdata.head(3)"
   ]
  },
  {
   "cell_type": "markdown",
   "id": "23c50497-f1c5-4e6e-9a82-4712c9bf2891",
   "metadata": {},
   "source": [
    "### Data Preprocessing\n",
    "For this problem we are only taking numeric data so dropping all feature which are not numeric."
   ]
  },
  {
   "cell_type": "code",
   "execution_count": 3,
   "id": "e3fed276-a54b-45db-9d91-cda7b8d86988",
   "metadata": {},
   "outputs": [],
   "source": [
    "#DROP SOME FEATURE\n",
    "droplist = ['symboling','make','fuel_type','aspiration','num_of_doors','drive_wheels','engine_location','engine_type','num_of_cylinders','fuel_system','body_style']\n",
    "cdata = cdata.drop(droplist,axis=1)"
   ]
  },
  {
   "cell_type": "markdown",
   "id": "30fa3543-6348-449e-bfb4-11e3403323e8",
   "metadata": {},
   "source": [
    "#### Missing Value\n",
    "Missing value is written as '?' in the dataset. So we will replace this '?' to numpy.nan value so we can handel missing value."
   ]
  },
  {
   "cell_type": "code",
   "execution_count": 4,
   "id": "b7122f32-0487-4ea2-a2e4-3ab2b29e9f77",
   "metadata": {},
   "outputs": [
    {
     "name": "stdout",
     "output_type": "stream",
     "text": [
      "Number of Missing value per feature:\n"
     ]
    },
    {
     "data": {
      "text/plain": [
       "normalized_losses    41\n",
       "wheel_base            0\n",
       "length                0\n",
       "width                 0\n",
       "height                0\n",
       "curb-weight           0\n",
       "engine_size           0\n",
       "bore                  4\n",
       "stroke                4\n",
       "compression_ratio     0\n",
       "horsepower            2\n",
       "peak_rpm              2\n",
       "city_mpg              0\n",
       "highway_mpg           0\n",
       "price                 4\n",
       "dtype: int64"
      ]
     },
     "execution_count": 4,
     "metadata": {},
     "output_type": "execute_result"
    }
   ],
   "source": [
    "#replace all ? in missing value to NAN\n",
    "cdata = cdata.replace('?', np.nan)\n",
    "print(\"Number of Missing value per feature:\")\n",
    "cdata.isnull().sum()"
   ]
  },
  {
   "cell_type": "markdown",
   "id": "e81c4d82-a0ab-4f03-a0ce-45e0071cc1ee",
   "metadata": {},
   "source": [
    "Now after finding feature which have missing value. Missing value will be replaced by avg"
   ]
  },
  {
   "cell_type": "code",
   "execution_count": 5,
   "id": "1a5dea1e-435f-4120-a7b2-2baeb86fa47b",
   "metadata": {},
   "outputs": [
    {
     "data": {
      "text/plain": [
       "normalized_losses    float64\n",
       "wheel_base           float64\n",
       "length               float64\n",
       "width                float64\n",
       "height               float64\n",
       "curb-weight            int64\n",
       "engine_size            int64\n",
       "bore                 float64\n",
       "stroke               float64\n",
       "compression_ratio    float64\n",
       "horsepower           float64\n",
       "peak_rpm             float64\n",
       "city_mpg               int64\n",
       "highway_mpg            int64\n",
       "price                float64\n",
       "dtype: object"
      ]
     },
     "execution_count": 5,
     "metadata": {},
     "output_type": "execute_result"
    }
   ],
   "source": [
    "#cdata.dtypes\n",
    "# list of attribe which have missing value\n",
    "list = ['normalized_losses', 'bore', 'stroke', 'horsepower', 'peak_rpm', 'price']\n",
    "#correcting datatype for above list \n",
    "cdata[list]=cdata[list].astype(float)\n",
    "cdata.dtypes"
   ]
  },
  {
   "cell_type": "code",
   "execution_count": 6,
   "id": "866c486d-3f69-4933-9945-11266c514f96",
   "metadata": {},
   "outputs": [
    {
     "name": "stdout",
     "output_type": "stream",
     "text": [
      "Number of Missing value after replacing with mean:\n"
     ]
    },
    {
     "data": {
      "text/plain": [
       "normalized_losses    0\n",
       "wheel_base           0\n",
       "length               0\n",
       "width                0\n",
       "height               0\n",
       "curb-weight          0\n",
       "engine_size          0\n",
       "bore                 0\n",
       "stroke               0\n",
       "compression_ratio    0\n",
       "horsepower           0\n",
       "peak_rpm             0\n",
       "city_mpg             0\n",
       "highway_mpg          0\n",
       "price                0\n",
       "dtype: int64"
      ]
     },
     "execution_count": 6,
     "metadata": {},
     "output_type": "execute_result"
    }
   ],
   "source": [
    "#Replacing missing value with mean\n",
    "for i in list:\n",
    "    mean=cdata[i].mean()\n",
    "    cdata[i].fillna(value=mean, inplace=True)\n",
    "    \n",
    "print(\"Number of Missing value after replacing with mean:\")\n",
    "cdata.isnull().sum()    "
   ]
  },
  {
   "cell_type": "markdown",
   "id": "c28d35e7-a695-40c7-b484-e51e48173d06",
   "metadata": {},
   "source": [
    "#### Data Normalization\n",
    "All the data is normalized using min max normalization."
   ]
  },
  {
   "cell_type": "code",
   "execution_count": 7,
   "id": "3a63bb87-2180-404b-90a9-5e7070bd03a9",
   "metadata": {},
   "outputs": [],
   "source": [
    "# Data Normalization with min max normalization except price\n",
    "normalized_cdata = (cdata- cdata.min())/(cdata.max() - cdata.min())\n",
    "normalized_cdata['price'] = cdata['price']"
   ]
  },
  {
   "cell_type": "code",
   "execution_count": 8,
   "id": "469e5646-cdc5-4894-b9fb-f15eeb88b790",
   "metadata": {},
   "outputs": [
    {
     "data": {
      "text/html": [
       "<div>\n",
       "<style scoped>\n",
       "    .dataframe tbody tr th:only-of-type {\n",
       "        vertical-align: middle;\n",
       "    }\n",
       "\n",
       "    .dataframe tbody tr th {\n",
       "        vertical-align: top;\n",
       "    }\n",
       "\n",
       "    .dataframe thead th {\n",
       "        text-align: right;\n",
       "    }\n",
       "</style>\n",
       "<table border=\"1\" class=\"dataframe\">\n",
       "  <thead>\n",
       "    <tr style=\"text-align: right;\">\n",
       "      <th></th>\n",
       "      <th>normalized_losses</th>\n",
       "      <th>wheel_base</th>\n",
       "      <th>length</th>\n",
       "      <th>width</th>\n",
       "      <th>height</th>\n",
       "      <th>curb-weight</th>\n",
       "      <th>engine_size</th>\n",
       "      <th>bore</th>\n",
       "      <th>stroke</th>\n",
       "      <th>compression_ratio</th>\n",
       "      <th>horsepower</th>\n",
       "      <th>peak_rpm</th>\n",
       "      <th>city_mpg</th>\n",
       "      <th>highway_mpg</th>\n",
       "      <th>price</th>\n",
       "    </tr>\n",
       "  </thead>\n",
       "  <tbody>\n",
       "    <tr>\n",
       "      <th>0</th>\n",
       "      <td>0.298429</td>\n",
       "      <td>0.058309</td>\n",
       "      <td>0.413433</td>\n",
       "      <td>0.316667</td>\n",
       "      <td>0.083333</td>\n",
       "      <td>0.411171</td>\n",
       "      <td>0.260377</td>\n",
       "      <td>0.664286</td>\n",
       "      <td>0.290476</td>\n",
       "      <td>0.125</td>\n",
       "      <td>0.262500</td>\n",
       "      <td>0.346939</td>\n",
       "      <td>0.222222</td>\n",
       "      <td>0.289474</td>\n",
       "      <td>13495.0</td>\n",
       "    </tr>\n",
       "    <tr>\n",
       "      <th>1</th>\n",
       "      <td>0.298429</td>\n",
       "      <td>0.058309</td>\n",
       "      <td>0.413433</td>\n",
       "      <td>0.316667</td>\n",
       "      <td>0.083333</td>\n",
       "      <td>0.411171</td>\n",
       "      <td>0.260377</td>\n",
       "      <td>0.664286</td>\n",
       "      <td>0.290476</td>\n",
       "      <td>0.125</td>\n",
       "      <td>0.262500</td>\n",
       "      <td>0.346939</td>\n",
       "      <td>0.222222</td>\n",
       "      <td>0.289474</td>\n",
       "      <td>16500.0</td>\n",
       "    </tr>\n",
       "    <tr>\n",
       "      <th>2</th>\n",
       "      <td>0.298429</td>\n",
       "      <td>0.230321</td>\n",
       "      <td>0.449254</td>\n",
       "      <td>0.433333</td>\n",
       "      <td>0.383333</td>\n",
       "      <td>0.517843</td>\n",
       "      <td>0.343396</td>\n",
       "      <td>0.100000</td>\n",
       "      <td>0.666667</td>\n",
       "      <td>0.125</td>\n",
       "      <td>0.441667</td>\n",
       "      <td>0.346939</td>\n",
       "      <td>0.166667</td>\n",
       "      <td>0.263158</td>\n",
       "      <td>16500.0</td>\n",
       "    </tr>\n",
       "  </tbody>\n",
       "</table>\n",
       "</div>"
      ],
      "text/plain": [
       "   normalized_losses  wheel_base    length     width    height  curb-weight  \\\n",
       "0           0.298429    0.058309  0.413433  0.316667  0.083333     0.411171   \n",
       "1           0.298429    0.058309  0.413433  0.316667  0.083333     0.411171   \n",
       "2           0.298429    0.230321  0.449254  0.433333  0.383333     0.517843   \n",
       "\n",
       "   engine_size      bore    stroke  compression_ratio  horsepower  peak_rpm  \\\n",
       "0     0.260377  0.664286  0.290476              0.125    0.262500  0.346939   \n",
       "1     0.260377  0.664286  0.290476              0.125    0.262500  0.346939   \n",
       "2     0.343396  0.100000  0.666667              0.125    0.441667  0.346939   \n",
       "\n",
       "   city_mpg  highway_mpg    price  \n",
       "0  0.222222     0.289474  13495.0  \n",
       "1  0.222222     0.289474  16500.0  \n",
       "2  0.166667     0.263158  16500.0  "
      ]
     },
     "execution_count": 8,
     "metadata": {},
     "output_type": "execute_result"
    }
   ],
   "source": [
    "normalized_cdata.head(3)"
   ]
  },
  {
   "cell_type": "markdown",
   "id": "00094ca1-7d2e-46e8-a7a2-8e2781e07cb0",
   "metadata": {},
   "source": [
    "__split data into training testing and validation set__"
   ]
  },
  {
   "cell_type": "code",
   "execution_count": 9,
   "id": "5d99a788-a24d-402f-8609-af76bf25c09a",
   "metadata": {},
   "outputs": [],
   "source": [
    "#data without normalization\n",
    "#XY = cdata\n",
    "XY = normalized_cdata"
   ]
  },
  {
   "cell_type": "code",
   "execution_count": 10,
   "id": "90f0ab77-5f57-4cc2-907b-4342573df416",
   "metadata": {},
   "outputs": [],
   "source": [
    "def testTrainSplit(XY):\n",
    "    '''\n",
    "    This funtion split data into Train and test set\n",
    "    XY --> df\n",
    "    return --> df,df\n",
    "    '''\n",
    "    XY_rnd = XY.sample(205)\n",
    "    XY_Train = XY_rnd[:164]\n",
    "    XY_Test = XY_rnd[164:]\n",
    "    return XY_Train, XY_Test\n",
    "\n",
    "def testValidationSplit(XY):\n",
    "    '''\n",
    "    This funtion split train data into Train and validation set\n",
    "    XY --> df\n",
    "    return --> df,df\n",
    "    '''\n",
    "    XY_rnd = XY.sample(164)\n",
    "    XY_Train = XY_rnd[:132]\n",
    "    XY_Val = XY_rnd[132:]\n",
    "    return XY_Train, XY_Val"
   ]
  },
  {
   "cell_type": "markdown",
   "id": "0b710c2e-aeb0-4537-8a20-53fec97257a8",
   "metadata": {},
   "source": [
    "# KNN"
   ]
  },
  {
   "cell_type": "code",
   "execution_count": 11,
   "id": "23fd61f7-8608-4a90-87b4-6daeb6a1d5cd",
   "metadata": {},
   "outputs": [],
   "source": [
    "def kNN(K, X, dataPoint):\n",
    "    '''\n",
    "    This funtion find K-Nearest Neighbors\n",
    "    K --> int\n",
    "    X --> np.array\n",
    "    dataPoint --> np.array\n",
    "    return ---> list\n",
    "    '''\n",
    "    #list to add distance of every point\n",
    "    listNN = []\n",
    "    # for every point in training data we calculate distance by L2 norm and add it in list\n",
    "    for i in range(len(X)):\n",
    "        listNN.append([i, lin.norm( X[i] - dataPoint, 2 ) ])\n",
    "    #sorting the list to find nearest point.\n",
    "    listNN.sort(key = lambda x: x[1])\n",
    "  \n",
    "    #sending K nearest point distance\n",
    "    return listNN[:K]"
   ]
  },
  {
   "cell_type": "code",
   "execution_count": 12,
   "id": "50ec05cf-e6c2-4f4f-9ceb-ec696baa3147",
   "metadata": {},
   "outputs": [],
   "source": [
    "#KNN regression\n",
    "def kNN_Regression(K,XY_train,DP):\n",
    "    '''\n",
    "    This funtion predict price for given datapoint DP using KNN.\n",
    "    It predict value for point in a 'Batch' \n",
    "    K : int \n",
    "    XY_train:df \n",
    "    DP:df\n",
    "    return --> list\n",
    "    '''\n",
    "    NN = []\n",
    "    # predicted price list\n",
    "    price_list = []\n",
    "    # price list of training data\n",
    "    price_train = XY_train['price'].values.tolist()\n",
    "    price_dp = DP['price'].values.tolist()\n",
    "    \n",
    "    # Removing lable ie price \n",
    "    X_train = np.array(XY_train.drop('price',axis=1))\n",
    "    DP = np.array(DP.drop('price',axis=1))\n",
    "    \n",
    "    #call kNN for all datapoint to predict\n",
    "    for dp in DP:\n",
    "        NN.append( kNN(K,X_train,dp) )\n",
    "        \n",
    "    # Taking price for all KNN and taking mean to predict price for datapoint    \n",
    "    for i in NN:\n",
    "        price = 0\n",
    "        for j in i:\n",
    "            price += price_train[j[0]]\n",
    "        price_avg = price / K\n",
    "        price_list.append(price_avg)\n",
    "    return price_list\n",
    "    \n",
    "    "
   ]
  },
  {
   "cell_type": "markdown",
   "id": "d2ec3fb2-5531-48d0-89ce-d6d380deb1e1",
   "metadata": {},
   "source": [
    "# __Q1 a__"
   ]
  },
  {
   "cell_type": "code",
   "execution_count": 13,
   "id": "a1ae5b24-724e-40e9-a6b9-866c45187f34",
   "metadata": {},
   "outputs": [
    {
     "name": "stdout",
     "output_type": "stream",
     "text": [
      "XY_Train size : (132, 15)\n",
      "XY_Val size : (32, 15)\n",
      "XY_Test size : (41, 15)\n"
     ]
    }
   ],
   "source": [
    "#split data into test validation and test set\n",
    "XY_Trv, XY_Test = testTrainSplit(XY)\n",
    "XY_Train, XY_Val = testValidationSplit(XY)\n",
    "print('XY_Train size : {}'.format(XY_Train.shape))\n",
    "print('XY_Val size : {}'.format(XY_Val.shape))\n",
    "print('XY_Test size : {}'.format(XY_Test.shape))\n"
   ]
  },
  {
   "cell_type": "code",
   "execution_count": 14,
   "id": "f46f757e-0cfe-4419-a597-87088a3eb18f",
   "metadata": {},
   "outputs": [],
   "source": [
    "# Funtion to find root mean squared error (RMSE) for validation set of size 32 datapoint\n",
    "def RMSE(actual_price,predicted_price):\n",
    "    return np.sqrt( np.sum( np.square(actual_price - predicted_price) ) / 32 )\n",
    "\n",
    "# Funtion to find normalized root mean squared error (NRMSE) for validation set of size 32 datapoint\n",
    "def NRMSE(actual_price,predicted_price):\n",
    "    pmax = actual_price.max()\n",
    "    pmin = actual_price.min()\n",
    "    rmse = RMSE(actual_price,predicted_price)\n",
    "    nrmse = rmse/(pmax-pmin)\n",
    "    return nrmse*100\n"
   ]
  },
  {
   "cell_type": "code",
   "execution_count": 15,
   "id": "00961ca2-d053-4675-95bd-01fed011c32d",
   "metadata": {},
   "outputs": [
    {
     "name": "stdout",
     "output_type": "stream",
     "text": [
      "For K = 2 RMSE  is : 4181.082495710591\n",
      "For K = 2 NRMSE is : 13.134428095720136 %\n"
     ]
    }
   ],
   "source": [
    "# Finnding RMSE for validation set\n",
    "K = 2\n",
    "actual_price = XY_Val['price'].values.tolist()\n",
    "predicted_price = kNN_Regression(K,XY_Train,XY_Val)\n",
    "\n",
    "actual_price = np.array(actual_price)\n",
    "predicted_price = np.array(predicted_price)\n",
    "    \n",
    "rmse = RMSE(actual_price,predicted_price)\n",
    "nrmse = NRMSE(actual_price,predicted_price)\n",
    "\n",
    "print('For K = {} RMSE  is : {}'.format(K,rmse))\n",
    "\n",
    "print('For K = {} NRMSE is : {} %'.format(K,nrmse))\n"
   ]
  },
  {
   "cell_type": "markdown",
   "id": "f4cf3307-9c96-40ab-9c37-ce7042b2401d",
   "metadata": {},
   "source": [
    "# Q1 B"
   ]
  },
  {
   "cell_type": "code",
   "execution_count": 16,
   "id": "68125794-dd4f-414e-b6f6-2d6676f25a80",
   "metadata": {},
   "outputs": [],
   "source": [
    "# Finding RMSE for K value ranging from 1 to 10 \n",
    "def crossVal(XY_Train, XY_Val):\n",
    "    \n",
    "    actual_price = XY_Val['price'].values.tolist()\n",
    "    actual_price = np.array(actual_price)\n",
    "    \n",
    "    # list for rmse\n",
    "    k_rmse_list = [0]*10\n",
    "    \n",
    "    # for k value from 1 to 10 \n",
    "    # find rmse and add it in the list\n",
    "    for K in range(1,11):\n",
    "        predicted_price = kNN_Regression(K,XY_Train,XY_Val)\n",
    "        predicted_price = np.array(predicted_price)\n",
    "        rmse = RMSE(actual_price,predicted_price)\n",
    "        k_rmse_list[K-1] = rmse \n",
    "    \n",
    "    #return error list\n",
    "    return k_rmse_list\n",
    "        "
   ]
  },
  {
   "cell_type": "code",
   "execution_count": 17,
   "id": "25f1a81f-75b0-4c6e-a342-84a769821b0f",
   "metadata": {},
   "outputs": [],
   "source": [
    "# N Fold cross validation \n",
    "# It takes random validation set for N time. Calculate it's RMSE and send avg RMSE\n",
    "def nFoldCrossVal(n,XY_Trv):\n",
    "    errorlist = np.array([0.]*10)\n",
    "    for i in range(n):\n",
    "        XY_Train, XY_Val = testValidationSplit(XY)\n",
    "        errorlist += np.array( crossVal(XY_Train, XY_Val) )\n",
    "    return errorlist/n\n",
    "    "
   ]
  },
  {
   "cell_type": "code",
   "execution_count": 18,
   "id": "2a160b7b-5b14-49dc-98d0-11fa76238bf2",
   "metadata": {},
   "outputs": [],
   "source": [
    "#finding optimal value of K using cross validation.\n",
    "# N fold cross validation with n=5\n",
    "k_rmse = nFoldCrossVal(5,XY_Trv)"
   ]
  },
  {
   "cell_type": "code",
   "execution_count": 19,
   "id": "acd4f1b1-050b-4521-b74e-a0dd68d7d4c7",
   "metadata": {},
   "outputs": [
    {
     "data": {
      "image/png": "[encoded data removed]",
      "text/plain": [
       "<Figure size 432x288 with 1 Axes>"
      ]
     },
     "metadata": {
      "needs_background": "light"
     },
     "output_type": "display_data"
    }
   ],
   "source": [
    "#graph RMSE Vs K\n",
    "x = np.array([1, 2, 3, 4, 5, 6, 7, 8, 9, 10])\n",
    "y = k_rmse\n",
    "  \n",
    "plt.plot(x, y)\n",
    "plt.xlabel(\"K\")\n",
    "plt.ylabel(\"Root mean squar error\")  \n",
    "plt.title(\"RMSE Vs K\")  \n",
    "plt.show()"
   ]
  },
  {
   "cell_type": "markdown",
   "id": "dc0bfd34-60e1-481a-b85a-19cd27b47cdb",
   "metadata": {},
   "source": [
    "__Based on above graph we can consider optimal K value to be 4-5__"
   ]
  },
  {
   "cell_type": "code",
   "execution_count": null,
   "id": "b29ad9bc-ceed-4d3b-9679-aeec68384635",
   "metadata": {},
   "outputs": [],
   "source": []
  },
  {
   "cell_type": "markdown",
   "id": "324d8585-a788-453a-a120-22577011c1f3",
   "metadata": {},
   "source": [
    "## Q2"
   ]
  },
  {
   "cell_type": "markdown",
   "id": "8b8c66e6-ea10-4426-8ea5-823958084179",
   "metadata": {},
   "source": [
    "### Importing uci Census Income Data Set \n",
    "Data is read from 'adult.csv' in pandas dataframe 'adata'. And then adding header to dataframe from 'header'"
   ]
  },
  {
   "cell_type": "code",
   "execution_count": 20,
   "id": "cfd8473c-ac35-4b7a-ad6d-df421d229dd2",
   "metadata": {},
   "outputs": [
    {
     "name": "stdout",
     "output_type": "stream",
     "text": [
      "Total Records  : 32561 \n",
      "Total Features : 15\n"
     ]
    },
    {
     "data": {
      "text/html": [
       "<div>\n",
       "<style scoped>\n",
       "    .dataframe tbody tr th:only-of-type {\n",
       "        vertical-align: middle;\n",
       "    }\n",
       "\n",
       "    .dataframe tbody tr th {\n",
       "        vertical-align: top;\n",
       "    }\n",
       "\n",
       "    .dataframe thead th {\n",
       "        text-align: right;\n",
       "    }\n",
       "</style>\n",
       "<table border=\"1\" class=\"dataframe\">\n",
       "  <thead>\n",
       "    <tr style=\"text-align: right;\">\n",
       "      <th></th>\n",
       "      <th>age</th>\n",
       "      <th>workclass</th>\n",
       "      <th>fnlwgt</th>\n",
       "      <th>education</th>\n",
       "      <th>education_num</th>\n",
       "      <th>marital_status</th>\n",
       "      <th>occupation</th>\n",
       "      <th>relationship</th>\n",
       "      <th>race</th>\n",
       "      <th>sex</th>\n",
       "      <th>capital_gain</th>\n",
       "      <th>capital_loss</th>\n",
       "      <th>hours_per_week</th>\n",
       "      <th>native_country</th>\n",
       "      <th>class</th>\n",
       "    </tr>\n",
       "  </thead>\n",
       "  <tbody>\n",
       "    <tr>\n",
       "      <th>0</th>\n",
       "      <td>90</td>\n",
       "      <td>?</td>\n",
       "      <td>77053</td>\n",
       "      <td>HS-grad</td>\n",
       "      <td>9</td>\n",
       "      <td>Widowed</td>\n",
       "      <td>?</td>\n",
       "      <td>Not-in-family</td>\n",
       "      <td>White</td>\n",
       "      <td>Female</td>\n",
       "      <td>0</td>\n",
       "      <td>4356</td>\n",
       "      <td>40</td>\n",
       "      <td>United-States</td>\n",
       "      <td>&lt;=50K</td>\n",
       "    </tr>\n",
       "    <tr>\n",
       "      <th>1</th>\n",
       "      <td>82</td>\n",
       "      <td>Private</td>\n",
       "      <td>132870</td>\n",
       "      <td>HS-grad</td>\n",
       "      <td>9</td>\n",
       "      <td>Widowed</td>\n",
       "      <td>Exec-managerial</td>\n",
       "      <td>Not-in-family</td>\n",
       "      <td>White</td>\n",
       "      <td>Female</td>\n",
       "      <td>0</td>\n",
       "      <td>4356</td>\n",
       "      <td>18</td>\n",
       "      <td>United-States</td>\n",
       "      <td>&lt;=50K</td>\n",
       "    </tr>\n",
       "    <tr>\n",
       "      <th>2</th>\n",
       "      <td>66</td>\n",
       "      <td>?</td>\n",
       "      <td>186061</td>\n",
       "      <td>Some-college</td>\n",
       "      <td>10</td>\n",
       "      <td>Widowed</td>\n",
       "      <td>?</td>\n",
       "      <td>Unmarried</td>\n",
       "      <td>Black</td>\n",
       "      <td>Female</td>\n",
       "      <td>0</td>\n",
       "      <td>4356</td>\n",
       "      <td>40</td>\n",
       "      <td>United-States</td>\n",
       "      <td>&lt;=50K</td>\n",
       "    </tr>\n",
       "  </tbody>\n",
       "</table>\n",
       "</div>"
      ],
      "text/plain": [
       "   age workclass  fnlwgt     education  education_num marital_status  \\\n",
       "0   90         ?   77053       HS-grad              9        Widowed   \n",
       "1   82   Private  132870       HS-grad              9        Widowed   \n",
       "2   66         ?  186061  Some-college             10        Widowed   \n",
       "\n",
       "        occupation   relationship   race     sex  capital_gain  capital_loss  \\\n",
       "0                ?  Not-in-family  White  Female             0          4356   \n",
       "1  Exec-managerial  Not-in-family  White  Female             0          4356   \n",
       "2                ?      Unmarried  Black  Female             0          4356   \n",
       "\n",
       "   hours_per_week native_country  class  \n",
       "0              40  United-States  <=50K  \n",
       "1              18  United-States  <=50K  \n",
       "2              40  United-States  <=50K  "
      ]
     },
     "execution_count": 20,
     "metadata": {},
     "output_type": "execute_result"
    }
   ],
   "source": [
    "#importing dataset\n",
    "adata = pd.read_csv(\"adult.csv\",header=None) \n",
    "# Adding header to dataset\n",
    "header = ['age', 'workclass' , 'fnlwgt' , 'education' , 'education_num' , 'marital_status' , 'occupation' , 'relationship' , 'race', 'sex' , 'capital_gain' , 'capital_loss' , 'hours_per_week' , 'native_country' , 'class']\n",
    "adata.to_csv(\"adata_.csv\", header=header, index=False)\n",
    "adata = pd.read_csv(\"adata_.csv\") \n",
    "print(\"Total Records  : {} \\nTotal Features : {}\".format(adata.shape[0],adata.shape[1]))\n",
    "adata.head(3)"
   ]
  },
  {
   "cell_type": "markdown",
   "id": "871ca5ad-ca2f-4f40-b1f7-d0604c228544",
   "metadata": {},
   "source": [
    "#### Data Preprocessing"
   ]
  },
  {
   "cell_type": "markdown",
   "id": "bc664778-e368-4a9b-8909-4f0faf202e37",
   "metadata": {},
   "source": [
    "#### Missing value\n",
    "Missing value is written as '?' in the dataset. So we will replace this '?' to numpy.nan value so we can handel missing value."
   ]
  },
  {
   "cell_type": "code",
   "execution_count": 21,
   "id": "d2478181-ec5a-4dda-a8cf-87dd3c84a21b",
   "metadata": {},
   "outputs": [
    {
     "name": "stdout",
     "output_type": "stream",
     "text": [
      "Number of Missing value per feature:\n"
     ]
    },
    {
     "data": {
      "text/plain": [
       "age                  0\n",
       "workclass         1836\n",
       "fnlwgt               0\n",
       "education            0\n",
       "education_num        0\n",
       "marital_status       0\n",
       "occupation        1843\n",
       "relationship         0\n",
       "race                 0\n",
       "sex                  0\n",
       "capital_gain         0\n",
       "capital_loss         0\n",
       "hours_per_week       0\n",
       "native_country     583\n",
       "class                0\n",
       "dtype: int64"
      ]
     },
     "execution_count": 21,
     "metadata": {},
     "output_type": "execute_result"
    }
   ],
   "source": [
    "#missing value\n",
    "#replace all ? in missing value to NAN\n",
    "adata = adata.replace('?', np.nan)\n",
    "print(\"Number of Missing value per feature:\")\n",
    "adata.isnull().sum()"
   ]
  },
  {
   "cell_type": "markdown",
   "id": "401d54f2-337b-4f3d-b70c-96ac46458aa4",
   "metadata": {},
   "source": [
    "_As all the missing attribute are non numeric. Delete data which have any missing value_"
   ]
  },
  {
   "cell_type": "code",
   "execution_count": 22,
   "id": "0ad7e268-26b6-48c8-ad5e-343d4ed3dfcf",
   "metadata": {},
   "outputs": [
    {
     "data": {
      "text/plain": [
       "(30162, 15)"
      ]
     },
     "execution_count": 22,
     "metadata": {},
     "output_type": "execute_result"
    }
   ],
   "source": [
    "# list of attribe which have missing value\n",
    "missinglist = ['workclass', 'occupation', 'native_country']\n",
    "adata = adata.dropna(subset=missinglist)\n",
    "#data after dropping missing value\n",
    "adata.shape"
   ]
  },
  {
   "cell_type": "markdown",
   "id": "bcc5e5dc-093c-49f4-9309-024a59f28ad3",
   "metadata": {},
   "source": [
    "#### Data Normalization"
   ]
  },
  {
   "cell_type": "code",
   "execution_count": 23,
   "id": "cbd070ed-989e-4873-8730-f48339a05488",
   "metadata": {},
   "outputs": [],
   "source": [
    "# Data Normalization with min max normalization except price\n",
    "normalized_adata = adata\n",
    "list = ['age','fnlwgt','education_num', 'capital_gain', 'capital_loss']\n",
    "normalized_adata[list] = (adata[list]- adata[list].min())/(adata[list].max() - adata[list].min())"
   ]
  },
  {
   "cell_type": "code",
   "execution_count": 24,
   "id": "8f5e354b-0e47-47a4-adaf-89be449db561",
   "metadata": {},
   "outputs": [
    {
     "data": {
      "text/html": [
       "<div>\n",
       "<style scoped>\n",
       "    .dataframe tbody tr th:only-of-type {\n",
       "        vertical-align: middle;\n",
       "    }\n",
       "\n",
       "    .dataframe tbody tr th {\n",
       "        vertical-align: top;\n",
       "    }\n",
       "\n",
       "    .dataframe thead th {\n",
       "        text-align: right;\n",
       "    }\n",
       "</style>\n",
       "<table border=\"1\" class=\"dataframe\">\n",
       "  <thead>\n",
       "    <tr style=\"text-align: right;\">\n",
       "      <th></th>\n",
       "      <th>age</th>\n",
       "      <th>workclass</th>\n",
       "      <th>fnlwgt</th>\n",
       "      <th>education</th>\n",
       "      <th>education_num</th>\n",
       "      <th>marital_status</th>\n",
       "      <th>occupation</th>\n",
       "      <th>relationship</th>\n",
       "      <th>race</th>\n",
       "      <th>sex</th>\n",
       "      <th>capital_gain</th>\n",
       "      <th>capital_loss</th>\n",
       "      <th>hours_per_week</th>\n",
       "      <th>native_country</th>\n",
       "      <th>class</th>\n",
       "    </tr>\n",
       "  </thead>\n",
       "  <tbody>\n",
       "    <tr>\n",
       "      <th>1</th>\n",
       "      <td>0.890411</td>\n",
       "      <td>Private</td>\n",
       "      <td>0.080970</td>\n",
       "      <td>HS-grad</td>\n",
       "      <td>0.533333</td>\n",
       "      <td>Widowed</td>\n",
       "      <td>Exec-managerial</td>\n",
       "      <td>Not-in-family</td>\n",
       "      <td>White</td>\n",
       "      <td>Female</td>\n",
       "      <td>0.0</td>\n",
       "      <td>1.000000</td>\n",
       "      <td>18</td>\n",
       "      <td>United-States</td>\n",
       "      <td>&lt;=50K</td>\n",
       "    </tr>\n",
       "    <tr>\n",
       "      <th>3</th>\n",
       "      <td>0.506849</td>\n",
       "      <td>Private</td>\n",
       "      <td>0.086061</td>\n",
       "      <td>7th-8th</td>\n",
       "      <td>0.200000</td>\n",
       "      <td>Divorced</td>\n",
       "      <td>Machine-op-inspct</td>\n",
       "      <td>Unmarried</td>\n",
       "      <td>White</td>\n",
       "      <td>Female</td>\n",
       "      <td>0.0</td>\n",
       "      <td>0.895317</td>\n",
       "      <td>40</td>\n",
       "      <td>United-States</td>\n",
       "      <td>&lt;=50K</td>\n",
       "    </tr>\n",
       "    <tr>\n",
       "      <th>4</th>\n",
       "      <td>0.328767</td>\n",
       "      <td>Private</td>\n",
       "      <td>0.170568</td>\n",
       "      <td>Some-college</td>\n",
       "      <td>0.600000</td>\n",
       "      <td>Separated</td>\n",
       "      <td>Prof-specialty</td>\n",
       "      <td>Own-child</td>\n",
       "      <td>White</td>\n",
       "      <td>Female</td>\n",
       "      <td>0.0</td>\n",
       "      <td>0.895317</td>\n",
       "      <td>40</td>\n",
       "      <td>United-States</td>\n",
       "      <td>&lt;=50K</td>\n",
       "    </tr>\n",
       "  </tbody>\n",
       "</table>\n",
       "</div>"
      ],
      "text/plain": [
       "        age workclass    fnlwgt     education  education_num marital_status  \\\n",
       "1  0.890411   Private  0.080970       HS-grad       0.533333        Widowed   \n",
       "3  0.506849   Private  0.086061       7th-8th       0.200000       Divorced   \n",
       "4  0.328767   Private  0.170568  Some-college       0.600000      Separated   \n",
       "\n",
       "          occupation   relationship   race     sex  capital_gain  \\\n",
       "1    Exec-managerial  Not-in-family  White  Female           0.0   \n",
       "3  Machine-op-inspct      Unmarried  White  Female           0.0   \n",
       "4     Prof-specialty      Own-child  White  Female           0.0   \n",
       "\n",
       "   capital_loss  hours_per_week native_country  class  \n",
       "1      1.000000              18  United-States  <=50K  \n",
       "3      0.895317              40  United-States  <=50K  \n",
       "4      0.895317              40  United-States  <=50K  "
      ]
     },
     "execution_count": 24,
     "metadata": {},
     "output_type": "execute_result"
    }
   ],
   "source": [
    "normalized_adata.head(3)"
   ]
  },
  {
   "cell_type": "code",
   "execution_count": null,
   "id": "b369716a-07d0-45fb-abc3-e2d81d7447fd",
   "metadata": {},
   "outputs": [],
   "source": []
  },
  {
   "cell_type": "code",
   "execution_count": null,
   "id": "3100bd79-c47d-4082-a965-cc7303f103b8",
   "metadata": {},
   "outputs": [],
   "source": []
  },
  {
   "cell_type": "code",
   "execution_count": null,
   "id": "f172827c-c7ff-4545-895f-4e9d57b8670e",
   "metadata": {},
   "outputs": [],
   "source": []
  },
  {
   "cell_type": "code",
   "execution_count": null,
   "id": "6dcc6e41-5114-4d7d-8c3d-7497b8f08f5b",
   "metadata": {},
   "outputs": [],
   "source": []
  },
  {
   "cell_type": "code",
   "execution_count": null,
   "id": "bfb25b91-6eef-4e19-b8f9-ec8f4cfd1ed5",
   "metadata": {},
   "outputs": [],
   "source": []
  }
 ],
 "metadata": {
  "kernelspec": {
   "display_name": "Python 3 (ipykernel)",
   "language": "python",
   "name": "python3"
  },
  "language_info": {
   "codemirror_mode": {
    "name": "ipython",
    "version": 3
   },
   "file_extension": ".py",
   "mimetype": "text/x-python",
   "name": "python",
   "nbconvert_exporter": "python",
   "pygments_lexer": "ipython3",
   "version": "3.9.6"
  }
 },
 "nbformat": 4,
 "nbformat_minor": 5
}
