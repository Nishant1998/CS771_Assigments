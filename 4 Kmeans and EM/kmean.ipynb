{
 "cells": [
  {
   "cell_type": "markdown",
   "metadata": {
    "pycharm": {
     "name": "#%% md\n"
    }
   },
   "source": [
    "Use any additional libraries you want, but if you don't explicitly code stuff that I have explicitly asked you to code, you will not get marks."
   ]
  },
  {
   "cell_type": "code",
   "execution_count": 1,
   "metadata": {
    "pycharm": {
     "name": "#%%\n"
    }
   },
   "outputs": [],
   "source": [
    "import pandas as pd"
   ]
  },
  {
   "cell_type": "markdown",
   "metadata": {
    "pycharm": {
     "name": "#%% md\n"
    }
   },
   "source": [
    "### Q1. Kernel k-means\n",
    "\n",
    "Let's try and end our course on a happy note. The smiley dataset you see below is made up of many clusters of points. "
   ]
  },
  {
   "cell_type": "code",
   "execution_count": 2,
   "metadata": {
    "pycharm": {
     "name": "#%%\n"
    }
   },
   "outputs": [],
   "source": [
    "import numpy as np\n",
    "import numpy.linalg as lin\n",
    "import numpy.random as rnd\n",
    "from matplotlib import pyplot as plt\n",
    "\n",
    "\n",
    "def getFigure( sizex = 7, sizey = 7 ):\n",
    "    fig = plt.figure( figsize = (sizex, sizey) )\n",
    "    return fig\n",
    "\n",
    "def plot2D( X, fig, color = 'r', marker = '+', size = 100, empty = False ):\n",
    "    plt.figure( fig.number )\n",
    "    if empty:\n",
    "        plt.scatter( X[:,0], X[:,1], s = size, facecolors = 'none', edgecolors = color, marker = marker  )\n",
    "    else:\n",
    "        plt.scatter( X[:,0], X[:,1], s = size, c = color, marker = marker )\n",
    "\n",
    "\n",
    "def genCrescentData( d, n, mu, r, flipped = False ):\n",
    "    X = np.vstack( (np.cos( np.linspace( 0, np.pi, n ) ), np.sin( np.linspace( 0, np.pi, n ) ) ) ).T\n",
    "    if flipped:\n",
    "        X[:,1] = -np.abs( X[:,1] )\n",
    "    else:\n",
    "        X[:,1] = np.abs( X[:,1] )\n",
    "    X = (X * r) + mu\n",
    "    return X\n",
    "\n",
    "def genSphericalData( d, n, mu, r ):\n",
    "    X = rnd.normal( 0, 1, (n, d) )\n",
    "    norms = lin.norm( X, axis = 1 )\n",
    "    X = X / norms[:, np.newaxis]\n",
    "    X = (X * r) + mu\n",
    "    return X"
   ]
  },
  {
   "cell_type": "code",
   "execution_count": 3,
   "metadata": {
    "pycharm": {
     "name": "#%%\n"
    }
   },
   "outputs": [],
   "source": [
    "d = 2\n",
    "n = 200\n",
    "\n",
    "mu1 = np.array( [0,0] )\n",
    "mu2 = np.array( [0,1] )\n",
    "mu3 = np.array( [0,0] )\n",
    "mu4 = np.array( [-3,5] )\n",
    "mu5 = np.array( [3,5] )\n",
    "\n",
    "tmp1 = genCrescentData( d, n, mu1, 1 )\n",
    "tmp2 = genCrescentData( d, n, mu2, 5, flipped = True )\n",
    "tmp3 = genSphericalData( d, n, mu3, 10 )\n",
    "tmp4 = genSphericalData( d, n, mu4, 1 )\n",
    "tmp5 = genSphericalData( d, n, mu5, 1 )\n",
    "X = np.vstack( (tmp1, tmp2, tmp3, tmp4, tmp5) )"
   ]
  },
  {
   "cell_type": "code",
   "execution_count": 4,
   "metadata": {
    "pycharm": {
     "name": "#%%\n"
    }
   },
   "outputs": [
    {
     "data": {
      "image/png": "[encoded data removed]",
      "text/plain": [
       "<Figure size 576x576 with 1 Axes>"
      ]
     },
     "metadata": {
      "needs_background": "light"
     },
     "output_type": "display_data"
    }
   ],
   "source": [
    "fig = getFigure( 8, 8 )\n",
    "plot2D( X, fig, size = 50, color = 'b', marker = 'o' )"
   ]
  },
  {
   "cell_type": "markdown",
   "metadata": {
    "pycharm": {
     "name": "#%% md\n"
    }
   },
   "source": [
    "(a) Can you implement the k-means algorithm to cluster this dataset? Visualize your output. [10 points] \n",
    "\n",
    "(b) Implement k-means++ to initialize cluster centers usefully. [5 points]\n",
    "\n",
    "(c) What value of k gives you the best clustering? Are you happy with the quality of the clustering? [5 points]\n"
   ]
  },
  {
   "cell_type": "markdown",
   "metadata": {
    "pycharm": {
     "name": "#%% md\n"
    }
   },
   "source": [
    "(d) I'm going to say that we want to be able to do better than this. So I want you to kernelize your k-means algorithm with a Gaussian kernel. Visualize the clustering output of your kernel k-means algorithm [15 points]"
   ]
  },
  {
   "cell_type": "markdown",
   "metadata": {
    "pycharm": {
     "name": "#%% md\n"
    }
   },
   "source": [
    "## A) K-Means"
   ]
  },
  {
   "cell_type": "code",
   "execution_count": 5,
   "metadata": {
    "pycharm": {
     "name": "#%%\n"
    }
   },
   "outputs": [],
   "source": [
    "def kMeans_initializer(m,X,K):\n",
    "    ''' Funtion to initialize random centroid  '''\n",
    "    index = np.random.choice(m,K,replace=False)\n",
    "    return [list(X[i]) for i in index]\n",
    "\n",
    "def plot(labels, centroids):\n",
    "    \"\"\" \n",
    "    Funtion to plot clusters and its centroid\n",
    "    \"\"\"\n",
    "    df = pd.DataFrame(X,columns= [\"X1\",\"X2\"])\n",
    "    df[\"Y\"] = labels \n",
    "\n",
    "    for i in np.unique(labels):\n",
    "        x1 = df[df[\"Y\"] == i].X1.to_list()\n",
    "        x2 = df[df[\"Y\"] == i].X2.to_list()\n",
    "        plt.scatter(x1 , x2)\n",
    "    plt.scatter(centroids[:,0] , centroids[:,1],color='Black')\n",
    "    plt.show()\n",
    "\n",
    "def getClusters(centroids,X,K):\n",
    "    ''' This funtion assign cluster based on closest centroid to data'''\n",
    "    clusters = [[] for _ in range(K)]\n",
    "    for i, x in enumerate(X):\n",
    "        k = getClosestCentroid(x, centroids)\n",
    "        clusters[k].append(i)\n",
    "    return clusters\n",
    "\n",
    "def getClosestCentroid(x, centroids):\n",
    "    '''\n",
    "    This funtion find closest centroid from a point\n",
    "    '''\n",
    "    dist = []\n",
    "    for i in centroids:\n",
    "        dist.append(np.sqrt(np.sum((x - i) ** 2)))\n",
    "    return np.argmin(dist)\n",
    "\n",
    "def getCentroids(clusters,K,n):\n",
    "    \"\"\"\n",
    "    This funtion find new centroids from mean of cluster.\n",
    "    \"\"\"\n",
    "    centroids = np.zeros((K, n))\n",
    "    for i, cluster in enumerate(clusters):\n",
    "        mean = np.mean(X[cluster], axis=0)\n",
    "        centroids[i] = mean\n",
    "    return centroids\n",
    "\n",
    "\n",
    "\n",
    "def K_Means(X,K,iters=100,initializer=kMeans_initializer):\n",
    "    # list index of data points for each cluster\n",
    "    clusters = [[] for _ in range(K)]\n",
    "    # list for cluster center\n",
    "    centroids = []\n",
    "    \n",
    "    #get number of samples and its dimention\n",
    "    m = X.shape[0]\n",
    "    n = X.shape[1]\n",
    "    \n",
    "    centroids = initializer(m,X,K)\n",
    "    \n",
    "    # Optimize clusters\n",
    "    for _ in range(iters):\n",
    "        # create clusters for new centroid\n",
    "        clusters = getClusters(centroids,X,K)\n",
    "\n",
    "        # Calculate new centroids from the clusters\n",
    "        old = centroids\n",
    "        centroids = getCentroids(clusters,K,n)\n",
    "        \n",
    "    # each sample will get the label of the cluster it was assigned to\n",
    "    labels = np.empty(m)\n",
    "    for i, cluster in enumerate(clusters):\n",
    "        for j in cluster:\n",
    "            labels[j] = i\n",
    "    return labels, centroids\n",
    "\n",
    "        "
   ]
  },
  {
   "cell_type": "code",
   "execution_count": 6,
   "metadata": {
    "pycharm": {
     "name": "#%%\n"
    }
   },
   "outputs": [
    {
     "data": {
      "image/png": "[encoded data removed]",
      "text/plain": [
       "<Figure size 432x288 with 1 Axes>"
      ]
     },
     "metadata": {
      "needs_background": "light"
     },
     "output_type": "display_data"
    }
   ],
   "source": [
    "# Call K-Means on K=3\n",
    "labels, centroids = K_Means(X,K=3,iters=100,initializer=kMeans_initializer)\n",
    "plot(labels, centroids)"
   ]
  },
  {
   "cell_type": "markdown",
   "metadata": {
    "pycharm": {
     "name": "#%% md\n"
    }
   },
   "source": [
    "## B) K-Means++"
   ]
  },
  {
   "cell_type": "code",
   "execution_count": 7,
   "metadata": {
    "pycharm": {
     "name": "#%%\n"
    }
   },
   "outputs": [],
   "source": [
    "def kMPP_initializer(m,X,K):\n",
    "    ''' Funtion to initialize centroid  using Kmean++'''\n",
    "    # each cluster is init far from each other\n",
    "    centroids = []\n",
    "    index = np.random.choice(1000,1)[0]\n",
    "    centroids.append(list(X[index]))\n",
    "\n",
    "\n",
    "    for _ in range(K-1):\n",
    "        dist = []\n",
    "        for i in range(X.shape[0]):\n",
    "            x = X[i]\n",
    "            d = np.Inf\n",
    "    \n",
    "            for j in centroids:\n",
    "                temp = np.sqrt(np.sum((x - j) ** 2))\n",
    "                d = min(d,temp)\n",
    "    \n",
    "            dist.append(d)\n",
    "        centroids.append(X[np.argmax(np.array(dist))].tolist())\n",
    "    \n",
    "    return np.array(centroids)"
   ]
  },
  {
   "cell_type": "code",
   "execution_count": 8,
   "metadata": {
    "pycharm": {
     "name": "#%%\n"
    }
   },
   "outputs": [
    {
     "data": {
      "image/png": "[encoded data removed]",
      "text/plain": [
       "<Figure size 432x288 with 1 Axes>"
      ]
     },
     "metadata": {
      "needs_background": "light"
     },
     "output_type": "display_data"
    }
   ],
   "source": [
    "# Call Kmeans++ on K=3 \n",
    "labels, centroids = K_Means(X,K=3,iters=100,initializer=kMPP_initializer)\n",
    "plot(labels, centroids)"
   ]
  },
  {
   "cell_type": "markdown",
   "metadata": {
    "pycharm": {
     "name": "#%% md\n"
    }
   },
   "source": [
    "## C) "
   ]
  },
  {
   "cell_type": "code",
   "execution_count": 9,
   "metadata": {
    "pycharm": {
     "name": "#%%\n"
    }
   },
   "outputs": [],
   "source": [
    "def elbowCurve(X,i=5):\n",
    "    # method to find best number of cluster\n",
    "    costs = []\n",
    "    for K in range(1,i+1):\n",
    "        labels, centroids = K_Means(X,K,iters=100)\n",
    "        df = pd.DataFrame(X,columns= [\"X1\",\"X2\"])\n",
    "        df[\"Y\"] = labels \n",
    "        \n",
    "        cost = 0\n",
    "        for k in range(K):\n",
    "            \n",
    "            a = df[df[\"Y\"] == k].iloc[:,[0,1]].values\n",
    "            b = np.sum((a - centroids[k])**2)/len(a)\n",
    "            cost = cost + b\n",
    "        \n",
    "        costs.append(cost/K)\n",
    "    \n",
    "    return costs"
   ]
  },
  {
   "cell_type": "code",
   "execution_count": 10,
   "metadata": {
    "pycharm": {
     "name": "#%%\n"
    }
   },
   "outputs": [
    {
     "data": {
      "text/plain": [
       "[<matplotlib.lines.Line2D at 0x24245f09a60>]"
      ]
     },
     "execution_count": 10,
     "metadata": {},
     "output_type": "execute_result"
    },
    {
     "data": {
      "image/png": "[encoded data removed]",
      "text/plain": [
       "<Figure size 432x288 with 1 Axes>"
      ]
     },
     "metadata": {
      "needs_background": "light"
     },
     "output_type": "display_data"
    }
   ],
   "source": [
    "costs = elbowCurve(X,i=10)\n",
    "plt.plot(list(range(len(costs))), costs)"
   ]
  },
  {
   "cell_type": "markdown",
   "metadata": {
    "pycharm": {
     "name": "#%% md\n"
    }
   },
   "source": [
    "K=5 gives best clustering. Because of the shape of data K-Means is not able to cluster properly."
   ]
  },
  {
   "cell_type": "code",
   "execution_count": 11,
   "metadata": {
    "pycharm": {
     "name": "#%%\n"
    }
   },
   "outputs": [
    {
     "data": {
      "image/png": "[encoded data removed]",
      "text/plain": [
       "<Figure size 432x288 with 1 Axes>"
      ]
     },
     "metadata": {
      "needs_background": "light"
     },
     "output_type": "display_data"
    }
   ],
   "source": [
    "labels, centroids = K_Means(X,K=5,iters=100,initializer=kMPP_initializer)\n",
    "plot(labels, centroids)"
   ]
  },
  {
   "cell_type": "markdown",
   "metadata": {
    "pycharm": {
     "name": "#%% md\n"
    }
   },
   "source": [
    "## D) Kernel K-Means"
   ]
  },
  {
   "cell_type": "code",
   "execution_count": 12,
   "metadata": {
    "pycharm": {
     "name": "#%%\n"
    }
   },
   "outputs": [],
   "source": [
    "def getClusterpt(clusters,X):\n",
    "    # funtion to get data divided into cluster based on index\n",
    "    List = [[] for i in range(len(clusters))]\n",
    "    for i in range(len(clusters)):\n",
    "        for j in range(len(clusters[i])):\n",
    "            List[i].append(X[clusters[i][j]])\n",
    "    return List\n",
    "\n",
    "def distanceOrigin_initializer(m,X,K):\n",
    "    # funtion to div data into cluster based on its distance from centroid\n",
    "    dist = np.ndarray(shape=(m, 1))\n",
    "    for i in range(m):\n",
    "        dist[i] = np.sqrt((X[i][0]**2)+(X[i][1]**2))\n",
    "    sortedIndex = dist[:,0].argsort()\n",
    "\n",
    "    clusters = np.array_split(sortedIndex, 5)\n",
    "    for i in range(len(clusters)):\n",
    "        clusters[i] = list(clusters[i])\n",
    "    return clusters"
   ]
  },
  {
   "cell_type": "code",
   "execution_count": 13,
   "metadata": {
    "pycharm": {
     "name": "#%%\n"
    }
   },
   "outputs": [],
   "source": [
    "def RbfKernel(data1, data2, sigma):\n",
    "    # funtion to calculate RBF kernel\n",
    "    dist = (np.square(abs(np.subtract(data1, data2))).sum(axis=1))\n",
    "    return np.exp(-(dist)/(2*sigma**2))\n",
    "\n",
    "def thirdTerm(clusterMember, sigma):\n",
    "    term3 = 0\n",
    "    m = clusterMember.shape[0]\n",
    "    for i in range(m):\n",
    "        for j in range(m):\n",
    "            term3 = term3 + RbfKernel(clusterMember[i, :], clusterMember[j, :], sigma)\n",
    "    return term3 / (m ** 2)\n",
    "\n",
    "def secondTerm(d, clusterMember, sigma):\n",
    "    term2 = 0\n",
    "    m = clusterMember.shape[0]\n",
    "    for i in range(m):\n",
    "        term2 = term2 + RbfKernel(d, clusterMember[i,:], sigma)\n",
    "    return 2 * term2 / m\n",
    "\n",
    "def Kernel_K_Means(X,K,iters=100,initializer=kMeans_initializer, sigma = 2):\n",
    "    # list index of data points for each cluster\n",
    "    clusters = [[] for _ in range(K)]\n",
    "    # list for cluster center\n",
    "    centroids = []\n",
    "    \n",
    "    #get number of samples and its dimention\n",
    "    m = X.shape[0]\n",
    "    n = X.shape[1]\n",
    "    \n",
    "    if((initializer == kMeans_initializer) or (initializer == kMeans_initializer)):\n",
    "        centroids = initializer(m,X,K)\n",
    "        clusters = getClusters(centroids,X,K)\n",
    "        clusterMember = getClusterpt(clusters,X)\n",
    "    elif(initializer == distanceOrigin_initializer):\n",
    "        clusters = distanceOrigin_initializer(m,X,K)\n",
    "        clusterMember = getClusterpt(clusters,X)\n",
    "\n",
    "    for _ in range(iters):\n",
    "        kernel_result = np.ndarray(shape=(m, 0)) # (1000, 0)\n",
    "              \n",
    "        #assign data to cluster whose centroid is the closest one\n",
    "        for i in range(K):#repeat for all cluster\n",
    "            x = thirdTerm(np.asmatrix(clusterMember[i]), sigma)\n",
    "            term3 = np.repeat(x, m, axis=0)\n",
    "            term3 = np.asmatrix(term3)\n",
    "            \n",
    "            term2 = np.ndarray(shape=(0,1))\n",
    "            for j in range(m): #repeat for all data\n",
    "                y = secondTerm(X[j,:], np.asmatrix(clusterMember[i]) , sigma)\n",
    "                term2 = np.concatenate((term2, y), axis=0)\n",
    "            term2 = np.asmatrix(term2)\n",
    "\n",
    "            z = np.add(-1*term2, term3)\n",
    "            kernel_result = np.concatenate((kernel_result, z), axis=1)\n",
    "\n",
    "       \n",
    "        clusterMatrix = np.ravel(np.argmin(np.matrix(kernel_result), axis=1))     \n",
    "        newClusterMember = [[] for l in range(K)]\n",
    "        for i in range(0, m):#assign data to cluster regarding cluster matrix\n",
    "            newClusterMember[clusterMatrix[i].item()].append(X[i,:])\n",
    "\n",
    "        #update new cluster member\n",
    "        clusterMember = newClusterMember\n",
    "        \n",
    "\n",
    "    return clusterMember"
   ]
  },
  {
   "cell_type": "code",
   "execution_count": 14,
   "metadata": {
    "pycharm": {
     "name": "#%%\n"
    }
   },
   "outputs": [
    {
     "data": {
      "image/png": "[encoded data removed]",
      "text/plain": [
       "<Figure size 432x288 with 1 Axes>"
      ]
     },
     "metadata": {
      "needs_background": "light"
     },
     "output_type": "display_data"
    }
   ],
   "source": [
    "# call kernal kmean with sigma 2\n",
    "clusterResult = Kernel_K_Means(X,5,iters=5,initializer=distanceOrigin_initializer, sigma = 2)\n",
    "\n",
    "# plot cluster\n",
    "plt.scatter(np.hsplit(np.array(clusterResult[0]), 2)[0],np.hsplit(np.array(clusterResult[0]), 2)[1])\n",
    "plt.scatter(np.hsplit(np.array(clusterResult[1]), 2)[0],np.hsplit(np.array(clusterResult[1]), 2)[1])\n",
    "plt.scatter(np.hsplit(np.array(clusterResult[2]), 2)[0],np.hsplit(np.array(clusterResult[2]), 2)[1])\n",
    "plt.scatter(np.hsplit(np.array(clusterResult[3]), 2)[0],np.hsplit(np.array(clusterResult[3]), 2)[1])\n",
    "plt.scatter(np.hsplit(np.array(clusterResult[4]), 2)[0],np.hsplit(np.array(clusterResult[4]), 2)[1])\n",
    "plt.show()"
   ]
  },
  {
   "cell_type": "markdown",
   "metadata": {
    "pycharm": {
     "name": "#%% md\n"
    }
   },
   "source": [
    " "
   ]
  },
  {
   "cell_type": "markdown",
   "metadata": {
    "pycharm": {
     "name": "#%% md\n"
    }
   },
   "source": [
    "### Q2. Expectation-Maximization"
   ]
  },
  {
   "cell_type": "markdown",
   "metadata": {
    "pycharm": {
     "name": "#%% md\n"
    }
   },
   "source": [
    "We saw how to use EM to learn parameters for Gaussian mixture models last week. Specifically, for a GMM described by the set of parameters $\\{\\pi_k, \\mu_k, \\Sigma_k \\}_{k=1}^K$, we saw that the E-step boils down to figuring out the expected assignment of clusters based on a responsibility judgment proportional to $\\pi_k~N(\\mu_k, \\Sigma_k)$, given curent parameter estimates, followed by using GDA MLE updates assuming the current expected assignment in the M-step to update parameter values."
   ]
  },
  {
   "cell_type": "markdown",
   "metadata": {
    "pycharm": {
     "name": "#%% md\n"
    }
   },
   "source": [
    "(a) Can you derive the E-step and M-step for an EM algorithm that would work for a Gaussian mixture model wherein the mixture weights $\\pi_k$ are known, and the covariances are restricted to be spherical, i.e. $\\Sigma_k = \\sigma^2_k I$? [20 points]"
   ]
  },
  {
   "cell_type": "markdown",
   "metadata": {
    "pycharm": {
     "name": "#%% md\n"
    }
   },
   "source": [
    "(b) Implement this algorithm and show that it works on synthetic data with 3 clusters. If you are unable to derive the EM algorithm for part (a), implement the EM algorithm I showed in the class slides for the standard GMM (5 point penalty for taking this option) [15 points]. "
   ]
  },
  {
   "cell_type": "markdown",
   "metadata": {
    "pycharm": {
     "name": "#%% md\n"
    }
   },
   "source": [
    "## A) EM algorithm for a Gaussian mixture model"
   ]
  },
  {
   "cell_type": "markdown",
   "metadata": {
    "pycharm": {
     "name": "#%% md\n"
    }
   },
   "source": [
    "### E-Step\n",
    "\n",
    "$$ \\gamma_{nj} =  argmax_\\gamma(L(\\theta,\\gamma)) $$\n",
    "$$ \\gamma_{nj} =  argmax_\\gamma(L(\\theta,\\gamma)) = P(\\pi_i|x_i,\\theta) $$\n",
    "\n",
    "$$ P(\\pi_i|x_i,\\theta) = \\frac{P(x_i|\\pi_i,\\theta)P(\\pi_{ij}|\\theta)}{P(x_i|\\theta)} $$"
   ]
  },
  {
   "cell_type": "markdown",
   "metadata": {
    "pycharm": {
     "name": "#%% md\n"
    }
   },
   "source": [
    "$$ \\gamma_{nk} = \\frac{\\pi_j N(x_n|\\mu_j,\\Sigma_j)}{\\sum_k\\pi_k N(x_n|\\mu_k,\\Sigma_k)} $$\n",
    "\n",
    "Now as $\\Sigma = \\sigma^2I$\n",
    "\n",
    "$$ \\gamma_{nk} = \\frac{\\pi_j N(x_n|\\mu_j,\\sigma^2I)}{\\sum_k\\pi_k N(x_n|\\mu_k,\\sigma^2I)} $$\n"
   ]
  },
  {
   "cell_type": "markdown",
   "metadata": {
    "pycharm": {
     "name": "#%% md\n"
    }
   },
   "source": [
    "### M-Step"
   ]
  },
  {
   "cell_type": "markdown",
   "metadata": {
    "pycharm": {
     "name": "#%% md\n"
    }
   },
   "source": [
    "$P(X,Z|\\theta) = \\prod_{i=1}^{N} P(x_i,z|\\theta) $\n",
    "$\\\\= \\prod_{i=1}^{N} \\sum_{j=1}^{K} P(x_i,z_{i} = j|\\theta) $\n",
    "$\\\\= \\prod_{i=1}^{N} \\sum_{j=1}^{K} P(z_i = j |\\theta)P(x_i | z_{i} = j,\\theta) $\n",
    "$\\\\= \\prod_{i=1}^{N} \\sum_{j=1}^{K} \\pi_j P(x_i | z_{i} = j,\\theta) $"
   ]
  },
  {
   "cell_type": "markdown",
   "metadata": {
    "pycharm": {
     "name": "#%% md\n"
    }
   },
   "source": [
    "Now Maximize $\\theta$ \n",
    "Subjected to condition\n",
    "$\\\\ \\sum_{j=1}^{K} \\pi_j = 1$ \n",
    "And\n",
    "$\\\\ \\Sigma = \\sigma^2 I $\n",
    "\n",
    "$\\\\ \\theta = argmax_{\\theta} E_{p(Z|X,\\theta)} log(P(X,Z|\\theta))  $\n",
    "$= \\sum_{i=1}^{N} \\sum_{j=1}^{K} \\gamma_{ij} \\; log( \\pi_j \\; N(x_i|\\mu_i, \\Sigma_j)) - \\lambda \\left[\\sum_{j=1}^{K} \\pi_j -1\\right]  $\n",
    "\n"
   ]
  },
  {
   "cell_type": "markdown",
   "metadata": {
    "pycharm": {
     "name": "#%% md\n"
    }
   },
   "source": [
    "#### 1. For $\\lambda $\n",
    "$$\n",
    "\\frac{\\partial \\theta}{\\partial \\lambda} = \\frac{\\partial \\theta}{\\partial \\lambda} \\left[ \\sum_{i=1}^{N} \\sum_{j=1}^{K} \\gamma_{ij} \\; log( \\pi_j \\; N(x_i|\\mu_i, \\Sigma_j)) - \\lambda \\left[\\sum_{j=1}^{K} \\pi_j -1\\right] \\right]\n",
    "$$\n",
    "\n",
    "$$\n",
    "\\frac{\\partial \\theta}{\\partial \\lambda} = \\frac{\\partial \\theta}{\\partial \\lambda} \\left[ -\\lambda \\sum_{j=1}^{K} \\pi_j + \\lambda  \\right]\n",
    "$$\n",
    "\n",
    "$$\n",
    "\\frac{\\partial \\theta}{\\partial \\lambda} = - \\sum_{j=1}^{K} \\pi_j + 1 = 0\n",
    "$$\n",
    "\n",
    "After setting it to zero we get\n",
    "\n",
    "### $$\n",
    "\\sum_{j=1}^{K} \\pi_j = 1\n",
    "$$"
   ]
  },
  {
   "cell_type": "markdown",
   "metadata": {
    "pycharm": {
     "name": "#%% md\n"
    }
   },
   "source": [
    "#### 2. For $\\pi $\n",
    "$$\n",
    "\\frac{\\partial \\theta}{\\partial \\pi} = \\frac{\\partial \\theta}{\\partial \\pi} \\left[ \\sum_{i=1}^{N} \\sum_{j=1}^{K} \\gamma_{ij} \\; log( \\pi_j \\; N(x_i|\\mu_i, \\Sigma_j)) - \\lambda \\left[\\sum_{j=1}^{K} \\pi_j -1\\right] \\right]\n",
    "$$\n",
    "\n",
    "$$\n",
    "\\frac{\\partial \\theta}{\\partial \\pi} = \\frac{\\partial \\theta}{\\partial \\pi} \\left[ \\sum_{i=1}^{N} \\sum_{j=1}^{K} \\gamma_{ij} \\; ( log\\pi_j + log(N(x_i|\\mu_i, \\Sigma_j)) - \\lambda \\left[\\sum_{j=1}^{K} \\pi_j -1\\right] \\right]\n",
    "$$\n",
    "\n",
    "$$\n",
    "\\frac{\\partial \\theta}{\\partial \\pi} = \\frac{\\partial \\theta}{\\partial \\pi} \\left[  \\left( \\sum_{i=1}^{N}\\gamma_{ij}log\\pi_j + \\sum_{i=1}^{N}\\gamma_{ij}log(N(x_i|\\mu_i, \\Sigma_j)\\right) - \\lambda \\left[ \\pi_j -1\\right] \\right]\n",
    "$$\n",
    "\n",
    "$$\n",
    "\\frac{\\partial \\theta}{\\partial \\pi} = \\frac{\\sum_{i=1}^{N}\\gamma_{ij}}{\\pi_j} - \\lambda = 0\n",
    "$$\n",
    "\n",
    "After setting it to zero we get\n",
    "\n",
    "$$\n",
    "\\pi_j = \\frac{\\sum_{i=1}^{N}\\gamma_{ij}}{\\lambda}\n",
    "$$\n",
    "\n",
    "Now to get rid of  $\\lambda$\n",
    "We know that $ \\sum_{j=1}^{K} \\pi_j = 1 $\n",
    "Then,\n",
    "$$\n",
    "\\sum_{j=1}^{K} \\pi_j = \\frac{\\sum_{j=1}^{K}\\sum_{i=1}^{N}\\gamma_{ij}}{\\lambda} = 1\n",
    "$$\n",
    "\n",
    "$$\n",
    "\\lambda = \\sum_{j=1}^{K}\\sum_{i=1}^{N}\\gamma_{ij}\n",
    "$$\n",
    "\n",
    "Therefore,\n",
    "\n",
    "### $$\n",
    "\\pi_j = \\frac{\\sum_{i=1}^{N}\\gamma_{ij}}{\\sum_{j=1}^{K}\\sum_{i=1}^{N}\\gamma_{ij}}\n",
    "$$"
   ]
  },
  {
   "cell_type": "markdown",
   "metadata": {
    "pycharm": {
     "name": "#%% md\n"
    }
   },
   "source": [
    "#### 3. For $\\mu $\n",
    "$$\n",
    "\\frac{\\partial \\theta}{\\partial \\mu} = \\frac{\\partial \\theta}{\\partial \\mu} \\left[ \\sum_{i=1}^{N} \\sum_{j=1}^{K} \\gamma_{ij} \\; log( \\pi_j \\; N(x_i|\\mu_i, \\Sigma_j)) - \\lambda \\left[\\sum_{j=1}^{K} \\pi_j -1\\right] \\right]\n",
    "$$\n",
    "\n",
    "$$\n",
    "\\frac{\\partial \\theta}{\\partial \\mu} = \\frac{\\partial \\theta}{\\partial \\mu} \\left[ \\sum_{i=1}^{N} \\sum_{j=1}^{K} \\gamma_{ij} \\; ( log\\pi_j + log(N(x_i|\\mu_i, \\Sigma_j)) - \\lambda \\left[\\sum_{j=1}^{K} \\pi_j -1\\right] \\right]\n",
    "$$\n",
    "\n",
    "$$\n",
    "\\frac{\\partial \\theta}{\\partial \\mu} = \\frac{\\partial \\theta}{\\partial \\mu} \\left[  \\left( \\sum_{i=1}^{N}\\gamma_{ij}log\\pi_j + \\sum_{i=1}^{N}\\gamma_{ij}log(N(x_i|\\mu_i, \\Sigma_j)\\right) - \\lambda \\left[ \\pi_j -1\\right] \\right]\n",
    "$$\n",
    "\n",
    "$$\n",
    "\\frac{\\partial \\theta}{\\partial \\mu} = \\frac{\\partial \\theta}{\\partial \\mu} \\left[ \\sum_{i=1}^{N}\\gamma_{ij} log\\left(\\frac{1}{(2\\pi)^{N/2} |\\Sigma_j|^{1/2} } exp\\left(\\frac{-1}{2} (x_i - \\mu_j)^T \\Sigma_j^{-1} (x_i - \\mu_j)\\right)\\right)\\right]\n",
    "$$\n",
    "\n",
    "$$\n",
    "\\frac{\\partial \\theta}{\\partial \\mu} = \\frac{\\partial \\theta}{\\partial \\mu} \\left[ \\sum_{i=1}^{N}\\gamma_{ij} log\\left(\\frac{1}{(2\\pi)^{N/2} |\\Sigma_j|^{1/2} }\\right) + \\sum_{i=1}^{N}\\gamma_{ij} log\\left(exp\\left(\\frac{-1}{2} (x_i - \\mu_j)^T \\Sigma_j^{-1} (x_i - \\mu_j)\\right)\\right)\\right]\n",
    "$$\n",
    "\n",
    "$$\n",
    "\\frac{\\partial \\theta}{\\partial \\mu} = \\frac{\\partial \\theta}{\\partial \\mu} \\left[ \\sum_{i=1}^{N}\\gamma_{ij} \\frac{-1}{2} (x_i - \\mu_j)^T \\Sigma_j^{-1} (x_i - \\mu_j)\\right]\n",
    "$$"
   ]
  },
  {
   "cell_type": "markdown",
   "metadata": {
    "pycharm": {
     "name": "#%% md\n"
    }
   },
   "source": [
    "Now $\\Sigma_j$ symetric matrix.\n",
    "By, \n",
    "$\\\\ \\frac{\\partial \\theta}{\\partial S} (X-S)^TW(X-S) = -2W(X-S) $"
   ]
  },
  {
   "cell_type": "markdown",
   "metadata": {
    "pycharm": {
     "name": "#%% md\n"
    }
   },
   "source": [
    "$$\n",
    "\\frac{\\partial \\theta}{\\partial \\mu} =  \\sum_{i=1}^{N}\\gamma_{ij} \\left(\\frac{-1}{2} \\left(-2 \\Sigma_j^{-1} (x_i - \\mu_j)\\right) \\right)\n",
    "$$\n",
    "\n",
    "$$\n",
    "\\mu_j = \\frac{\\sum_{i=1}^{N}\\gamma_{ij} \\Sigma_j^{-1} x_j}{\\sum_{i=1}^{N}\\gamma_{ij} \\Sigma_j^{-1}}\n",
    "$$\n",
    "\n",
    "### $$\n",
    "\\mu_j = \\frac{\\sum_{i=1}^{N}\\gamma_{ij} x_j}{\\sum_{i=1}^{N}\\gamma_{ij} }\n",
    "$$"
   ]
  },
  {
   "cell_type": "markdown",
   "metadata": {
    "pycharm": {
     "name": "#%% md\n"
    }
   },
   "source": [
    "#### 4. For $\\Sigma $\n",
    "$$\n",
    "\\frac{\\partial \\theta}{\\partial \\Sigma} = \\frac{\\partial \\theta}{\\partial \\Sigma} \\left[ \\sum_{i=1}^{N} \\sum_{j=1}^{K} \\gamma_{ij} \\; log( \\pi_j \\; N(x_i|\\mu_i, \\Sigma_j)) - \\lambda \\left[\\sum_{j=1}^{K} \\pi_j -1\\right] \\right]\n",
    "$$\n",
    "\n",
    "$$\n",
    "\\frac{\\partial \\theta}{\\partial \\Sigma} = \\frac{\\partial \\theta}{\\partial \\Sigma} \\left[ \\sum_{i=1}^{N} \\sum_{j=1}^{K} \\gamma_{ij} \\; ( log\\pi_j + log(N(x_i|\\mu_i, \\Sigma_j)) - \\lambda \\left[\\sum_{j=1}^{K} \\pi_j -1\\right] \\right]\n",
    "$$\n",
    "\n",
    "$$\n",
    "\\frac{\\partial \\theta}{\\partial \\Sigma} = \\frac{\\partial \\theta}{\\partial \\Sigma} \\left[  \\left( \\sum_{i=1}^{N}\\gamma_{ij}log\\pi_j + \\sum_{i=1}^{N}\\gamma_{ij}log(N(x_i|\\mu_i, \\Sigma_j)\\right) - \\lambda \\left[ \\pi_j -1\\right] \\right]\n",
    "$$\n",
    "\n",
    "$$\n",
    "\\frac{\\partial \\theta}{\\partial \\Sigma} = \\frac{\\partial \\theta}{\\partial \\Sigma} \\left[ \\sum_{i=1}^{N}\\gamma_{ij} log\\left(\\frac{1}{(2\\pi)^{N/2} |\\Sigma_j|^{1/2} } exp\\left(\\frac{-1}{2} (x_i - \\mu_j)^T \\Sigma_j^{-1} (x_i - \\mu_j)\\right)\\right)\\right]\n",
    "$$\n",
    "\n",
    "$$\n",
    "\\frac{\\partial \\theta}{\\partial \\Sigma} = \\frac{\\partial \\theta}{\\partial \\Sigma} \\left[ \\sum_{i=1}^{N}\\gamma_{ij} log\\left(\\frac{1}{(2\\pi)^{N/2} |\\Sigma_j|^{1/2} }\\right) + \\sum_{i=1}^{N}\\gamma_{ij} log\\left(exp\\left(\\frac{-1}{2} (x_i - \\mu_j)^T \\Sigma_j^{-1} (x_i - \\mu_j)\\right)\\right)\\right]\n",
    "$$\n",
    "\n",
    "$$\n",
    "\\frac{\\partial \\theta}{\\partial \\Sigma} = \\frac{\\partial \\theta}{\\partial \\Sigma} \\left[  \\sum_{i=1}^{N}\\gamma_{ij}\\left(log\\left(\\frac{1}{2\\pi^{N/2}}\\right)  + \\frac{1}{2} log\\left(\\frac{1}{|\\Sigma_j|}\\right)- \\frac{1}{2} (x_i - \\mu_j)^T \\Sigma_j^{-1} (x_i - \\mu_j)\\right)\\right]\n",
    "$$"
   ]
  },
  {
   "cell_type": "markdown",
   "metadata": {
    "pycharm": {
     "name": "#%% md\n"
    }
   },
   "source": [
    "Now as covariances are restricted to be spherical, i.e. $ \\Sigma_j = \\sigma^2I$\n",
    "\n",
    "Then $ |\\Sigma_j| = (\\sigma^2)^2$ for 2 dimentional data.\n",
    "After replacing $\\Sigma$ we will find gradient with respect to $\\sigma^2$"
   ]
  },
  {
   "cell_type": "markdown",
   "metadata": {
    "pycharm": {
     "name": "#%% md\n"
    }
   },
   "source": [
    "$$\n",
    "\\frac{\\partial \\theta}{\\partial \\sigma^2} = \\frac{\\partial \\theta}{\\partial \\sigma^2} \\left[ \\sum_{i=1}^{N}\\gamma_{ij} \\left(log\\left(\\frac{1}{2\\pi^{N/2}}\\right)  +  \\frac{N}{2} log\\left(\\frac{1}{|\\Sigma_j|}\\right)- \\frac{1}{2} (x_i - \\mu_j)^T \\Sigma_j^{-1} (x_i - \\mu_j)\\right)\\right]\n",
    "$$\n",
    "\n",
    "$$\n",
    "\\frac{\\partial \\theta}{\\partial \\sigma^2} = \\frac{\\partial \\theta}{\\partial \\sigma^2} \\left[ \\left(\\sum_{i=1}^{N}\\gamma_{ij} log\\left(\\frac{1}{2\\pi^{N/2}}\\right)  - \\frac{N}{2} log\\left(|\\Sigma_j|\\right)\\sum_{i=1}^{N}\\gamma_{ij}- \\frac{1}{2} \\sum_{i=1}^{N}\\gamma_{ij}(x_i - \\mu_j)^T \\Sigma_j^{-1} (x_i - \\mu_j)\\right)\\right]\n",
    "$$\n",
    "\n",
    "\n",
    "$$\n",
    "\\frac{\\partial \\theta}{\\partial \\sigma^2} = \\frac{\\partial \\theta}{\\partial \\sigma^2} \\left[ \\left(\\sum_{i=1}^{N}\\gamma_{ij} log\\left(\\frac{1}{2\\pi^{N/2}}\\right)  - N log\\left(\\sigma_j^2\\right)\\sum_{i=1}^{N}\\gamma_{ij}- \\frac{1}{2\\sigma^2} \\sum_{i=1}^{N}\\gamma_{ij}(x_i - \\mu_j)^T (x_i - \\mu_j)\\right)\\right]\n",
    "$$"
   ]
  },
  {
   "cell_type": "markdown",
   "metadata": {
    "pycharm": {
     "name": "#%% md\n"
    }
   },
   "source": [
    "$$\n",
    "\\frac{\\partial \\theta}{\\partial \\sigma^2} = - \\frac{N\\sum_{i=1}^{N}\\gamma_{ij}}{\\sigma^2} + \\frac{1}{2\\sigma^4} \\sum_{i=1}^{N}\\gamma_{ij}(x_i - \\mu_j)^T (x_i - \\mu_j)\n",
    "$$"
   ]
  },
  {
   "cell_type": "markdown",
   "metadata": {
    "pycharm": {
     "name": "#%% md\n"
    }
   },
   "source": [
    "$$\n",
    "\\frac{N\\sum_{i=1}^{N}\\gamma_{ij}}{\\sigma^2} = \\frac{1}{2\\sigma^4} \\sum_{i=1}^{1}\\gamma_{ij}(x_i - \\mu_j)^T (x_i - \\mu_j)\n",
    "$$"
   ]
  },
  {
   "cell_type": "markdown",
   "metadata": {
    "pycharm": {
     "name": "#%% md\n"
    }
   },
   "source": [
    "$$ \n",
    "\\sigma^2 = \\frac{\\sum_{i=1}^{N}\\gamma_{ij}(x_i - \\mu_j)^T (x_i - \\mu_j)}{2N\\sum_{i=1}^{N}\\gamma_{ij}}\n",
    "$$\n",
    "\n",
    "$$ \n",
    "\\sigma^2 = \\frac{\\sum_{i=1}^{N}\\gamma_{ij}(x_i - \\mu_j)^T (x_i - \\mu_j)}{2N\\sum_{i=1}^{N}\\gamma_{ij}}\n",
    "$$"
   ]
  },
  {
   "cell_type": "markdown",
   "metadata": {
    "pycharm": {
     "name": "#%% md\n"
    }
   },
   "source": [
    "## B) EM algorithm implementation"
   ]
  },
  {
   "cell_type": "code",
   "execution_count": 46,
   "metadata": {
    "pycharm": {
     "name": "#%%\n"
    }
   },
   "outputs": [],
   "source": [
    "# genrate data\n",
    "mu1 = np.array( [5,5] )\n",
    "mu2 = np.array( [5,-5] )\n",
    "mu3 = np.array( [-5,0] )\n",
    "\n",
    "tmp1 = genSphericalData( 2, 300, mu1, 5 )\n",
    "tmp2 = genSphericalData( 2, 200, mu2, 1 )\n",
    "tmp3 = genSphericalData( 2, 100, mu3, 2 )\n",
    "X = np.vstack( (tmp1, tmp2, tmp3) )"
   ]
  },
  {
   "cell_type": "code",
   "execution_count": 47,
   "metadata": {
    "pycharm": {
     "name": "#%%\n"
    }
   },
   "outputs": [
    {
     "data": {
      "image/png": "[encoded data removed]",
      "text/plain": [
       "<Figure size 576x576 with 1 Axes>"
      ]
     },
     "metadata": {
      "needs_background": "light"
     },
     "output_type": "display_data"
    }
   ],
   "source": [
    "fig = getFigure( 8, 8 )\n",
    "plot2D( X, fig, size = 50, color = 'b', marker = 'o' )"
   ]
  },
  {
   "cell_type": "code",
   "execution_count": 48,
   "metadata": {
    "pycharm": {
     "name": "#%%\n"
    }
   },
   "outputs": [],
   "source": [
    "def N(x,mu,cov):\n",
    "    # funtion to calculate pdf of multivariate gaussian distribution \n",
    "    x = np.asmatrix(x).T\n",
    "    mu = np.asmatrix(mu).T\n",
    "    cov = np.asmatrix(cov)\n",
    "    \n",
    "    a = np.dot((x-mu).T, np.linalg.inv(cov))\n",
    "    exp = np.exp(np.dot(a , (x-mu))/-2)\n",
    "\n",
    "    return ( 1/(2*np.pi* np.sqrt(np.linalg.det(covar[0])) ) ) * exp"
   ]
  },
  {
   "cell_type": "code",
   "execution_count": 49,
   "metadata": {
    "pycharm": {
     "name": "#%%\n"
    }
   },
   "outputs": [],
   "source": [
    "def update_pi(z,K):\n",
    "    # funtion to pi \n",
    "    Z = 0\n",
    "    pi = np.zeros(K)\n",
    "    for i in range(K):\n",
    "        Z = Z + z[i].sum()\n",
    "\n",
    "    for i in range(K):\n",
    "        pi[i] = z[i].sum() / Z\n",
    "    return pi"
   ]
  },
  {
   "cell_type": "code",
   "execution_count": 50,
   "metadata": {
    "pycharm": {
     "name": "#%%\n"
    }
   },
   "outputs": [],
   "source": [
    "def update_mu(X,K,z):\n",
    "    # funtion to mu\n",
    "    mu = np.zeros([K, 2])\n",
    "    for i in range(K):\n",
    "        sum = 0 \n",
    "        for j in range(X.shape[0]):\n",
    "            sum = sum + (X[j] * z[i][j] )\n",
    "            mu[i] = sum/z[i].sum()\n",
    "    return mu"
   ]
  },
  {
   "cell_type": "code",
   "execution_count": 51,
   "metadata": {
    "pycharm": {
     "name": "#%%\n"
    }
   },
   "outputs": [],
   "source": [
    "def update_covar(X,K,mu,z):\n",
    "    covar = np.zeros([K,2,2])\n",
    "    # funtion to covar\n",
    "    for i in range(K):\n",
    "        sum = 0\n",
    "        sigma = 0\n",
    "        meam = np.asmatrix(mu[i]).T\n",
    "        for j in range(X.shape[0]):\n",
    "            x = np.asmatrix(X[j]).T\n",
    "            sum = sum + (((x - meam).T)*(x - meam)) * z[i][j]\n",
    "        \n",
    "        sigma = sum / (z[0].sum()*2*X.shape[0])\n",
    "    \n",
    "        covar[i] = sigma.item() * np.identity(X.shape[1])\n",
    "    return covar"
   ]
  },
  {
   "cell_type": "code",
   "execution_count": 52,
   "metadata": {
    "pycharm": {
     "name": "#%%\n"
    }
   },
   "outputs": [],
   "source": [
    "# E step\n",
    "def e_step(X,K,pi,mu,covar):\n",
    "    z = np.zeros([K, X.shape[0]])\n",
    "    for i in range(K):\n",
    "        for j in range(X.shape[0]):\n",
    "            den = 0\n",
    "            for k in range(K):\n",
    "                den = den + pi[k] * N(X[j],mu[k],covar[k])\n",
    "        \n",
    "            z[i][j] = (pi[i] * N(X[j],mu[i],covar[i]) / den).item()\n",
    "    return z"
   ]
  },
  {
   "cell_type": "code",
   "execution_count": 53,
   "metadata": {
    "pycharm": {
     "name": "#%%\n"
    }
   },
   "outputs": [],
   "source": [
    "# M step\n",
    "def m_step(X,K,z):\n",
    "    pi = update_pi(z,K)\n",
    "    mu = update_mu(X,K,z)\n",
    "    covar = update_covar(X,K,mu,z)\n",
    "    return pi,mu,covar"
   ]
  },
  {
   "cell_type": "code",
   "execution_count": 54,
   "metadata": {
    "pycharm": {
     "name": "#%%\n"
    }
   },
   "outputs": [],
   "source": [
    "def em_Algo(X,K,pi,mu,covar,itter=10):\n",
    "    for i in range(itter):\n",
    "        z = e_step(X,K,pi,mu,covar)\n",
    "        pi,mu,covar = m_step(X,K,z)\n",
    "    \n",
    "    return z,pi,mu,covar"
   ]
  },
  {
   "cell_type": "code",
   "execution_count": 55,
   "metadata": {
    "pycharm": {
     "name": "#%%\n"
    }
   },
   "outputs": [],
   "source": [
    "# initialize parameters for EM algorithm\n",
    "K= 3\n",
    "mu = np.zeros([K, 2])\n",
    "covar = np.zeros([K,2,2])\n",
    "pi = np.zeros(K)\n",
    "rpt = np.random.randint(X.shape[0], size=3)\n",
    "for i in range(K):\n",
    "    covar[i][0][0] = 1\n",
    "    covar[i][1][1] = 1\n",
    "    mu[i] = X[rpt[i]]\n",
    "    \n",
    "    pi[i] = X.shape[0]/K/X.shape[0]"
   ]
  },
  {
   "cell_type": "code",
   "execution_count": 56,
   "metadata": {
    "pycharm": {
     "name": "#%%\n"
    }
   },
   "outputs": [],
   "source": [
    "# call em algorithm\n",
    "z,pi,mu,covar = em_Algo(X,K,pi,mu,covar,itter=10)"
   ]
  },
  {
   "cell_type": "code",
   "execution_count": null,
   "metadata": {
    "pycharm": {
     "name": "#%%\n"
    }
   },
   "outputs": [],
   "source": []
  },
  {
   "cell_type": "code",
   "execution_count": null,
   "metadata": {
    "pycharm": {
     "name": "#%%\n"
    }
   },
   "outputs": [],
   "source": []
  }
 ],
 "metadata": {
  "kernelspec": {
   "display_name": "Python 3 (ipykernel)",
   "language": "python",
   "name": "python3"
  },
  "language_info": {
   "codemirror_mode": {
    "name": "ipython",
    "version": 3
   },
   "file_extension": ".py",
   "mimetype": "text/x-python",
   "name": "python",
   "nbconvert_exporter": "python",
   "pygments_lexer": "ipython3",
   "version": "3.9.6"
  }
 },
 "nbformat": 4,
 "nbformat_minor": 4
}