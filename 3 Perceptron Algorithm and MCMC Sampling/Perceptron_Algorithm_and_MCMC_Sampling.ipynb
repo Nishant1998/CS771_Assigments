{
 "cells": [
  {
   "cell_type": "code",
   "execution_count": 1,
   "id": "f8bffbd4-3d17-4ba5-a294-d07fb08b8169",
   "metadata": {
    "pycharm": {
     "name": "#%%\n"
    }
   },
   "outputs": [],
   "source": [
    "import numpy as np\n",
    "import pandas as pd\n",
    "import random\n",
    "import matplotlib.pyplot as plt"
   ]
  },
  {
   "cell_type": "markdown",
   "id": "a3cf84b5-9c5a-4902-8bf6-f01c29a6371d",
   "metadata": {
    "pycharm": {
     "name": "#%% md\n"
    }
   },
   "source": [
    "## Q1 A __Percepton algorithm__"
   ]
  },
  {
   "cell_type": "code",
   "execution_count": 2,
   "id": "5cd7be79-2445-4272-aa65-d40c47f5c06c",
   "metadata": {
    "pycharm": {
     "name": "#%%\n"
    }
   },
   "outputs": [],
   "source": [
    "def randomData(X,Y):\n",
    "    '''\n",
    "    This funtion select random data and it's label\n",
    "    '''\n",
    "    \n",
    "    index = random.randint(0, len(X)-1 )\n",
    "    return X[index],Y[index]\n"
   ]
  },
  {
   "cell_type": "code",
   "execution_count": 3,
   "id": "429bbf0b-453a-44bc-ae4a-60612e33abca",
   "metadata": {
    "pycharm": {
     "name": "#%%\n"
    }
   },
   "outputs": [],
   "source": [
    "def perceptron(X,Y,t,n=1):\n",
    "    '''\n",
    "    This funtion implement perceptron algorithm \n",
    "    Attributes - \n",
    "    X - data\n",
    "    Y - lable\n",
    "    t - iteration\n",
    "    n - learning rate\n",
    "    \n",
    "    It return learned weights.\n",
    "    '''\n",
    "    \n",
    "    w = np.zeros((4,1))\n",
    "    \n",
    "    for i in range(t):\n",
    "        x_n, y_n = randomData(X,Y)\n",
    "        x_n = x_n.reshape([4,1])\n",
    "        \n",
    "        if (y_n * np.dot(w.T, x_n))[0] <= 0:\n",
    "            w = w + y_n*x_n\n",
    "\n",
    "    \n",
    "    return w"
   ]
  },
  {
   "cell_type": "markdown",
   "id": "5c60da79-0c89-46f5-9b78-91e76072feb8",
   "metadata": {
    "pycharm": {
     "name": "#%% md\n"
    }
   },
   "source": [
    "## Q1 B"
   ]
  },
  {
   "cell_type": "markdown",
   "id": "c228ae53-dbf4-4886-b780-a9c0ab422907",
   "metadata": {
    "pycharm": {
     "name": "#%% md\n"
    }
   },
   "source": [
    "## __Read data__"
   ]
  },
  {
   "cell_type": "code",
   "execution_count": 4,
   "id": "ce056cc9-1699-4245-9f83-72781e785560",
   "metadata": {
    "collapsed": true,
    "jupyter": {
     "outputs_hidden": true
    },
    "tags": [],
    "pycharm": {
     "name": "#%%\n"
    }
   },
   "outputs": [
    {
     "data": {
      "text/html": [
       "<div>\n",
       "<style scoped>\n",
       "    .dataframe tbody tr th:only-of-type {\n",
       "        vertical-align: middle;\n",
       "    }\n",
       "\n",
       "    .dataframe tbody tr th {\n",
       "        vertical-align: top;\n",
       "    }\n",
       "\n",
       "    .dataframe thead th {\n",
       "        text-align: right;\n",
       "    }\n",
       "</style>\n",
       "<table border=\"1\" class=\"dataframe\">\n",
       "  <thead>\n",
       "    <tr style=\"text-align: right;\">\n",
       "      <th></th>\n",
       "      <th>variance</th>\n",
       "      <th>skewness</th>\n",
       "      <th>curtosis</th>\n",
       "      <th>entropy</th>\n",
       "      <th>class</th>\n",
       "    </tr>\n",
       "  </thead>\n",
       "  <tbody>\n",
       "    <tr>\n",
       "      <th>0</th>\n",
       "      <td>3.6216</td>\n",
       "      <td>8.6661</td>\n",
       "      <td>-2.8073</td>\n",
       "      <td>-0.44699</td>\n",
       "      <td>0</td>\n",
       "    </tr>\n",
       "    <tr>\n",
       "      <th>1</th>\n",
       "      <td>4.5459</td>\n",
       "      <td>8.1674</td>\n",
       "      <td>-2.4586</td>\n",
       "      <td>-1.46210</td>\n",
       "      <td>0</td>\n",
       "    </tr>\n",
       "    <tr>\n",
       "      <th>2</th>\n",
       "      <td>3.8660</td>\n",
       "      <td>-2.6383</td>\n",
       "      <td>1.9242</td>\n",
       "      <td>0.10645</td>\n",
       "      <td>0</td>\n",
       "    </tr>\n",
       "  </tbody>\n",
       "</table>\n",
       "</div>"
      ],
      "text/plain": [
       "   variance  skewness  curtosis  entropy  class\n",
       "0    3.6216    8.6661   -2.8073 -0.44699      0\n",
       "1    4.5459    8.1674   -2.4586 -1.46210      0\n",
       "2    3.8660   -2.6383    1.9242  0.10645      0"
      ]
     },
     "execution_count": 4,
     "metadata": {},
     "output_type": "execute_result"
    }
   ],
   "source": [
    "header = ['variance','skewness','curtosis','entropy','class']\n",
    "data = pd.read_csv(\"data_banknote_authentication.csv\",names=header, header=None)\n",
    "data.head(3)"
   ]
  },
  {
   "cell_type": "code",
   "execution_count": 5,
   "id": "9f291e27-46aa-4ac1-9023-9f500a29d4bd",
   "metadata": {
    "pycharm": {
     "name": "#%%\n"
    }
   },
   "outputs": [
    {
     "data": {
      "text/plain": [
       "variance    float64\n",
       "skewness    float64\n",
       "curtosis    float64\n",
       "entropy     float64\n",
       "class         int64\n",
       "dtype: object"
      ]
     },
     "execution_count": 5,
     "metadata": {},
     "output_type": "execute_result"
    }
   ],
   "source": [
    "# get data type of data\n",
    "data.dtypes"
   ]
  },
  {
   "cell_type": "code",
   "execution_count": 6,
   "id": "26f310a6-4e3b-47ae-8591-320440c01ee1",
   "metadata": {
    "pycharm": {
     "name": "#%%\n"
    }
   },
   "outputs": [
    {
     "data": {
      "text/plain": [
       "variance    0\n",
       "skewness    0\n",
       "curtosis    0\n",
       "entropy     0\n",
       "class       0\n",
       "dtype: int64"
      ]
     },
     "execution_count": 6,
     "metadata": {},
     "output_type": "execute_result"
    }
   ],
   "source": [
    "data.isna().sum()\n",
    "# no missing values"
   ]
  },
  {
   "cell_type": "markdown",
   "id": "3cd6eff1-c1fd-4a15-b891-4850f4dac076",
   "metadata": {
    "pycharm": {
     "name": "#%% md\n"
    }
   },
   "source": [
    "#### Data normalization"
   ]
  },
  {
   "cell_type": "code",
   "execution_count": 7,
   "id": "d16e1fdc-2798-46db-b98d-749e16fa106d",
   "metadata": {
    "pycharm": {
     "name": "#%%\n"
    }
   },
   "outputs": [
    {
     "data": {
      "text/html": [
       "<div>\n",
       "<style scoped>\n",
       "    .dataframe tbody tr th:only-of-type {\n",
       "        vertical-align: middle;\n",
       "    }\n",
       "\n",
       "    .dataframe tbody tr th {\n",
       "        vertical-align: top;\n",
       "    }\n",
       "\n",
       "    .dataframe thead th {\n",
       "        text-align: right;\n",
       "    }\n",
       "</style>\n",
       "<table border=\"1\" class=\"dataframe\">\n",
       "  <thead>\n",
       "    <tr style=\"text-align: right;\">\n",
       "      <th></th>\n",
       "      <th>variance</th>\n",
       "      <th>skewness</th>\n",
       "      <th>curtosis</th>\n",
       "      <th>entropy</th>\n",
       "      <th>class</th>\n",
       "    </tr>\n",
       "  </thead>\n",
       "  <tbody>\n",
       "    <tr>\n",
       "      <th>0</th>\n",
       "      <td>0.769004</td>\n",
       "      <td>0.839643</td>\n",
       "      <td>0.106783</td>\n",
       "      <td>0.736628</td>\n",
       "      <td>0.0</td>\n",
       "    </tr>\n",
       "    <tr>\n",
       "      <th>1</th>\n",
       "      <td>0.835659</td>\n",
       "      <td>0.820982</td>\n",
       "      <td>0.121804</td>\n",
       "      <td>0.644326</td>\n",
       "      <td>0.0</td>\n",
       "    </tr>\n",
       "    <tr>\n",
       "      <th>2</th>\n",
       "      <td>0.786629</td>\n",
       "      <td>0.416648</td>\n",
       "      <td>0.310608</td>\n",
       "      <td>0.786951</td>\n",
       "      <td>0.0</td>\n",
       "    </tr>\n",
       "  </tbody>\n",
       "</table>\n",
       "</div>"
      ],
      "text/plain": [
       "   variance  skewness  curtosis   entropy  class\n",
       "0  0.769004  0.839643  0.106783  0.736628    0.0\n",
       "1  0.835659  0.820982  0.121804  0.644326    0.0\n",
       "2  0.786629  0.416648  0.310608  0.786951    0.0"
      ]
     },
     "execution_count": 7,
     "metadata": {},
     "output_type": "execute_result"
    }
   ],
   "source": [
    "for column in data.columns:\n",
    "    data[column] = (data[column] - data[column].min()) / (data[column].max() - data[column].min())    \n",
    "data.head(3)"
   ]
  },
  {
   "cell_type": "markdown",
   "id": "1451f1f6-cf2d-45cf-9c1c-3f971ed29466",
   "metadata": {
    "pycharm": {
     "name": "#%% md\n"
    }
   },
   "source": [
    "#### Change class as -1 and 1"
   ]
  },
  {
   "cell_type": "code",
   "execution_count": 8,
   "id": "16988402-0f54-43ae-ad57-4b457f2164cd",
   "metadata": {
    "pycharm": {
     "name": "#%%\n"
    }
   },
   "outputs": [
    {
     "data": {
      "text/html": [
       "<div>\n",
       "<style scoped>\n",
       "    .dataframe tbody tr th:only-of-type {\n",
       "        vertical-align: middle;\n",
       "    }\n",
       "\n",
       "    .dataframe tbody tr th {\n",
       "        vertical-align: top;\n",
       "    }\n",
       "\n",
       "    .dataframe thead th {\n",
       "        text-align: right;\n",
       "    }\n",
       "</style>\n",
       "<table border=\"1\" class=\"dataframe\">\n",
       "  <thead>\n",
       "    <tr style=\"text-align: right;\">\n",
       "      <th></th>\n",
       "      <th>variance</th>\n",
       "      <th>skewness</th>\n",
       "      <th>curtosis</th>\n",
       "      <th>entropy</th>\n",
       "      <th>class</th>\n",
       "    </tr>\n",
       "  </thead>\n",
       "  <tbody>\n",
       "    <tr>\n",
       "      <th>0</th>\n",
       "      <td>0.769004</td>\n",
       "      <td>0.839643</td>\n",
       "      <td>0.106783</td>\n",
       "      <td>0.736628</td>\n",
       "      <td>-1.0</td>\n",
       "    </tr>\n",
       "    <tr>\n",
       "      <th>1</th>\n",
       "      <td>0.835659</td>\n",
       "      <td>0.820982</td>\n",
       "      <td>0.121804</td>\n",
       "      <td>0.644326</td>\n",
       "      <td>-1.0</td>\n",
       "    </tr>\n",
       "    <tr>\n",
       "      <th>2</th>\n",
       "      <td>0.786629</td>\n",
       "      <td>0.416648</td>\n",
       "      <td>0.310608</td>\n",
       "      <td>0.786951</td>\n",
       "      <td>-1.0</td>\n",
       "    </tr>\n",
       "  </tbody>\n",
       "</table>\n",
       "</div>"
      ],
      "text/plain": [
       "   variance  skewness  curtosis   entropy  class\n",
       "0  0.769004  0.839643  0.106783  0.736628   -1.0\n",
       "1  0.835659  0.820982  0.121804  0.644326   -1.0\n",
       "2  0.786629  0.416648  0.310608  0.786951   -1.0"
      ]
     },
     "execution_count": 8,
     "metadata": {},
     "output_type": "execute_result"
    }
   ],
   "source": [
    "data.loc[data['class'] == 0, \"class\"] = -1\n",
    "data.head(3)"
   ]
  },
  {
   "cell_type": "code",
   "execution_count": 9,
   "id": "31d00436-531d-460d-a606-ffaabc9c4d75",
   "metadata": {
    "pycharm": {
     "name": "#%%\n"
    }
   },
   "outputs": [],
   "source": [
    "# Sperate data into feature (X) and lable (Y)\n",
    "X = data.iloc[:,:-1].to_numpy()\n",
    "Y = data.iloc[:,-1].to_list()\n"
   ]
  },
  {
   "cell_type": "code",
   "execution_count": 10,
   "id": "6ba575ff-785c-4cb0-ac40-2c217742fb7e",
   "metadata": {
    "pycharm": {
     "name": "#%%\n"
    }
   },
   "outputs": [],
   "source": [
    "# funtion to make predictions\n",
    "def predict(X,w):\n",
    "    '''\n",
    "    This funtion make prediction on batch of data\n",
    "    where \n",
    "    X is features of shape (n,4)\n",
    "    w is weights\n",
    "    it make prediction and return list of lables\n",
    "    '''\n",
    "    Y_predicted = []\n",
    "    for i in range(len(X)):\n",
    "        x = X[i].reshape(4,1)\n",
    "    \n",
    "        if np.dot(w.T, x)[0] < 0:\n",
    "            Y_predicted.append(-1)\n",
    "        else:\n",
    "            Y_predicted.append(1)\n",
    "            \n",
    "    return Y_predicted\n",
    "        "
   ]
  },
  {
   "cell_type": "markdown",
   "id": "5cbe744f-5f22-4f99-9440-dc146a0c6f7f",
   "metadata": {
    "pycharm": {
     "name": "#%% md\n"
    }
   },
   "source": [
    "### Q1 C"
   ]
  },
  {
   "cell_type": "code",
   "execution_count": 11,
   "id": "f161c80b-3a85-4bfd-9289-355ab1cbc4aa",
   "metadata": {
    "pycharm": {
     "name": "#%%\n"
    }
   },
   "outputs": [],
   "source": [
    "# train data using cross validation"
   ]
  },
  {
   "cell_type": "code",
   "execution_count": 12,
   "id": "d0b803e7-ba77-4c58-be52-03477a923262",
   "metadata": {
    "pycharm": {
     "name": "#%%\n"
    }
   },
   "outputs": [],
   "source": [
    "\n",
    "def split(X,Y,train_p):\n",
    "    '''\n",
    "    This funtion split data into train and test set \n",
    "    X is feature \n",
    "    Y is lable\n",
    "    train_p is training set percentage from total data\n",
    "    '''\n",
    "    \n",
    "    XY = np.c_[ X, Y ] \n",
    "    np.random.shuffle(XY)  \n",
    "    \n",
    "    n = int(len(XY)*train_p/100)\n",
    "    X = XY[:,:-1]\n",
    "    Y = XY[:,-1]\n",
    "    X_train = X[:n]\n",
    "    Y_train = Y[:n]\n",
    "    X_test = X[n:]\n",
    "    Y_test = Y[n:]\n",
    "        \n",
    "    return X_train , Y_train ,X_test, Y_test"
   ]
  },
  {
   "cell_type": "code",
   "execution_count": 13,
   "id": "ec30c104-d157-49ff-a895-1d417330d283",
   "metadata": {
    "pycharm": {
     "name": "#%%\n"
    }
   },
   "outputs": [],
   "source": [
    "def crossValidationSplit(X,Y,k=10):\n",
    "    '''\n",
    "    This funtion split data into 9:1 train and validation set.\n",
    "    And return it k times.\n",
    "    '''\n",
    "    XY = np.c_[ X, Y ] \n",
    "    for i in range(k):\n",
    "        np.random.shuffle(XY)  \n",
    "        n = int(len(XY)/10)\n",
    "        X = XY[:,:-1]\n",
    "        Y = XY[:,-1]\n",
    "        X_train = X[:n*9]\n",
    "        Y_train = Y[:n*9]\n",
    "        X_val = X[n*9:]\n",
    "        Y_val = Y[n*9:]\n",
    "        \n",
    "        yield X_train , Y_train ,X_val, Y_val"
   ]
  },
  {
   "cell_type": "code",
   "execution_count": 14,
   "id": "98021e8e-1087-4c9b-8b98-8f01d7c5274b",
   "metadata": {
    "pycharm": {
     "name": "#%%\n"
    }
   },
   "outputs": [],
   "source": [
    "def trainUsingCrossVal():\n",
    "    '''\n",
    "    This funtion train model using 10 fold cross validation.\n",
    "    And return avg error and best model.\n",
    "    '''\n",
    "    \n",
    "    avg_err = 0\n",
    "    e = 1\n",
    "    for X_train , Y_train ,X_val, Y_val in crossValidationSplit(X_trainVal,Y_trainVal,k=10):\n",
    "    \n",
    "    \n",
    "        # train Algorithm\n",
    "        w = perceptron(X_train,Y_train,t=500,n=1)\n",
    "        \n",
    "        # make prediction for validation set\n",
    "        Y_pred = predict(X_val,w)\n",
    "    \n",
    "        # calulate error precentage\n",
    "        tol_wrong_pred = np.logical_xor(np.array(Y_pred)+1, np.array(Y_val)+1).sum() \n",
    "        err = tol_wrong_pred / len(Y) \n",
    "    \n",
    "        avg_err += err\n",
    "    \n",
    "        # select best model\n",
    "        if e>err:\n",
    "            e = err\n",
    "            bestmodel = w\n",
    "            \n",
    "        return (avg_err*10) , bestmodel   \n",
    "\n",
    "\n"
   ]
  },
  {
   "cell_type": "code",
   "execution_count": 21,
   "id": "260879b8-a361-4923-8092-efeb337a11e5",
   "metadata": {
    "pycharm": {
     "name": "#%%\n"
    }
   },
   "outputs": [
    {
     "name": "stdout",
     "output_type": "stream",
     "text": [
      "Avg error for cross validation test set : 0.17%\n"
     ]
    }
   ],
   "source": [
    "# split data into train and test set\n",
    "# 80% - train + validation\n",
    "# 20% - test \n",
    "X_trainVal , Y_trainVal ,X_test, Y_test = split(X,Y,80)\n",
    "\n",
    "# train model\n",
    "error, model = trainUsingCrossVal()   \n",
    "print(\"Avg error for cross validation test set : {:.2f}%\".format(error))       "
   ]
  },
  {
   "cell_type": "markdown",
   "id": "cb72dc56-3298-4afb-8155-50683022a20d",
   "metadata": {
    "pycharm": {
     "name": "#%% md\n"
    }
   },
   "source": [
    "### Q1 D"
   ]
  },
  {
   "cell_type": "code",
   "execution_count": 22,
   "id": "93268684-529e-45b8-9e9e-1b1579c4e414",
   "metadata": {
    "pycharm": {
     "name": "#%%\n"
    }
   },
   "outputs": [
    {
     "name": "stdout",
     "output_type": "stream",
     "text": [
      "confusion matrix:\n",
      "TP : 65\n",
      "TN : 151\n",
      "FP : 151\n",
      "FN : 65\n",
      "Precision : 0.30092592592592593\n",
      "Recall : 0.5\n",
      "F1 Score : 0.37572254335260113\n"
     ]
    }
   ],
   "source": [
    "# get best model we trained above\n",
    "w = model\n",
    "        \n",
    "# make prediction\n",
    "Y_pred = predict(X_test,w)\n",
    "\n",
    "# Calculate concution matrix\n",
    "corr = Y_pred + Y_test\n",
    "wrg = Y_test + Y_pred\n",
    "TP = np.count_nonzero(corr == 2)\n",
    "TN = np.count_nonzero(corr == -2)\n",
    "\n",
    "FN = np.count_nonzero(wrg == 2)\n",
    "FP = np.count_nonzero(wrg == -2)\n",
    "\n",
    "print(\"confusion matrix:\")\n",
    "print(\"TP : {}\".format(TP))\n",
    "print(\"TN : {}\".format(TN))\n",
    "print(\"FP : {}\".format(FP))\n",
    "print(\"FN : {}\".format(FN))\n",
    "\n",
    "# calculate Precision and recall\n",
    "p = TP / (TP+FP)\n",
    "r = TP / (TP+FN)\n",
    "\n",
    "print(\"Precision : {}\".format(p))\n",
    "print(\"Recall : {}\".format(r))\n",
    "\n",
    "# calculate F1 score\n",
    "F1 = (2*p*r) / (p+r)\n",
    "print(\"F1 Score : {}\".format(F1))"
   ]
  },
  {
   "cell_type": "markdown",
   "id": "5bffab23-76c9-42e1-8521-122056b63c79",
   "metadata": {
    "pycharm": {
     "name": "#%% md\n"
    }
   },
   "source": [
    "## Q2 A"
   ]
  },
  {
   "cell_type": "code",
   "execution_count": 23,
   "id": "8820d5fa-5aea-41b1-869d-46821164e0de",
   "metadata": {
    "pycharm": {
     "name": "#%%\n"
    }
   },
   "outputs": [],
   "source": [
    "def norm_pdf(x, mean, sd):\n",
    "    '''\n",
    "    This funtion give normal probability distribution\n",
    "    for data x and given mean, standard deviation - sd\n",
    "    '''\n",
    "    return (1 / (sd * np.sqrt(2*np.pi)) ) * np.exp(-0.5*((x-mean)/sd)**2)"
   ]
  },
  {
   "cell_type": "code",
   "execution_count": 24,
   "id": "558ecae0-4029-4f46-a8a9-b32ef9cd7e6b",
   "metadata": {
    "pycharm": {
     "name": "#%%\n"
    }
   },
   "outputs": [],
   "source": [
    "# initial data\n",
    "# mean and std\n",
    "liklihood_mean = 10\n",
    "liklihood_std = 5\n",
    "prior_mean = 25\n",
    "prior_std = 5\n",
    "N = 50\n",
    "\n",
    "# genrate data with mean 10 and sd 5\n",
    "x = np.random.normal(loc=liklihood_mean, scale=liklihood_std, size=N)     # liklihood P(Y|8)\n",
    "x.sort()"
   ]
  },
  {
   "cell_type": "code",
   "execution_count": 25,
   "id": "3a5dddc2-d7c9-4098-b304-555aac8d6f3f",
   "metadata": {
    "pycharm": {
     "name": "#%%\n"
    }
   },
   "outputs": [],
   "source": [
    "def getBayesianPosterior(liklihood_mean,liklihood_std,prior_mean,prior_std,N,x):\n",
    "    '''\n",
    "    This funtion find Bayesian Posterior using likelihood and prior \n",
    "    '''\n",
    "    \n",
    "    theta = np.linspace(0,45,150)\n",
    "    # Calculate posterior mean and SD\n",
    "    posterior_std = np.sqrt( np.reciprocal( 1/(prior_std**2) + (N)/(liklihood_std**2) ) )\n",
    "    posterior_mean = (posterior_std**2) *( (prior_mean/prior_std**2) + ((N*x.mean())/liklihood_std**2))\n",
    "\n",
    "    # Plot data\n",
    "    plt.plot(x, norm_pdf(x, 10, 5), label='likelihood')\n",
    "    plt.plot(theta, norm_pdf(theta, 25, 5), label='prior')\n",
    "    plt.plot(theta, norm_pdf(theta, posterior_mean, posterior_std), label='posterior')\n",
    "    plt.legend()\n",
    "    plt.show()"
   ]
  },
  {
   "cell_type": "markdown",
   "id": "e137368a-c17e-4c84-bf19-4cfea48b8cbd",
   "metadata": {
    "pycharm": {
     "name": "#%% md\n"
    }
   },
   "source": [
    "Above function use following equation to find mean and standard deviation of posterior\n",
    "### $$ \\frac{1}{\\sigma_{post}^2}  = \\frac{1}{\\sigma_{prior}^2} + \\frac{N}{\\sigma_{x}^2} $$\n",
    "\n",
    "### $$ \\mu_{post} =  \\sigma_{post}^{-2} \\times \\left[\\frac{\\mu_{prior}}{\\sigma_{prior}^2} + \\frac{\\sum_{i=1}^{N} x_i}{\\sigma_{x}^2} \\right]$$"
   ]
  },
  {
   "cell_type": "code",
   "execution_count": 26,
   "id": "eba074e0-53dc-4779-b535-11c2d085d09d",
   "metadata": {
    "pycharm": {
     "name": "#%%\n"
    }
   },
   "outputs": [
    {
     "data": {
      "image/png": "[encoded data removed]",
      "text/plain": [
       "<Figure size 432x288 with 1 Axes>"
      ]
     },
     "metadata": {
      "needs_background": "light"
     },
     "output_type": "display_data"
    }
   ],
   "source": [
    "# get BayesianPosterior\n",
    "getBayesianPosterior(liklihood_mean,liklihood_std,prior_mean,prior_std,N,x)"
   ]
  },
  {
   "cell_type": "code",
   "execution_count": null,
   "id": "c55f7345-c848-4231-a957-f71820afe7bc",
   "metadata": {
    "pycharm": {
     "name": "#%%\n"
    }
   },
   "outputs": [],
   "source": []
  },
  {
   "cell_type": "markdown",
   "id": "12cf3a6e-30fb-4559-9a3e-1339641fde11",
   "metadata": {
    "pycharm": {
     "name": "#%% md\n"
    }
   },
   "source": [
    "## Q2 B"
   ]
  },
  {
   "cell_type": "code",
   "execution_count": 27,
   "id": "6cd701b0-8f7c-41a0-9087-e587010ec6c3",
   "metadata": {
    "pycharm": {
     "name": "#%%\n"
    }
   },
   "outputs": [],
   "source": [
    "def metropolis(data, samples, init_mean=25, proposal_width=5, prior_mean=25, prior_std=5.):\n",
    "    '''\n",
    "    This funtion implements metropolis algorithm \n",
    "    Attributes\n",
    "    data - data get collected \n",
    "    init_mean - starting point of sampling\n",
    "    samples - number of sample we need to collect\n",
    "    \n",
    "    It return sample of esstimated posterior distribution.\n",
    "    \n",
    "    '''\n",
    "    \n",
    "    \n",
    "    current_mean = init_mean\n",
    "    # add current position \n",
    "    posterior = [current_mean]\n",
    "    for i in range(samples):\n",
    "        \n",
    "        # get new position\n",
    "        new_mean = np.random.normal(loc=current_mean, scale=proposal_width, size=1)[0]\n",
    "\n",
    "        # Calculate likelihood with new and current mean\n",
    "        likelihood_current = norm_pdf(data, current_mean, 5).prod()\n",
    "        likelihood_new = norm_pdf(data, new_mean, 5).prod()\n",
    "        # Calculate prior probability with new and current mean\n",
    "        prior_current = norm_pdf(current_mean, prior_mean, prior_std).prod()\n",
    "        prior_new = norm_pdf(new_mean, prior_mean, prior_std).prod()\n",
    "        # Calculate posterior probability with new and current mean\n",
    "        posterior_current = likelihood_current * prior_current\n",
    "        posterior_new = likelihood_new * prior_new\n",
    "        \n",
    "        # Calculate Acceptance ratio \n",
    "        ## If ratio > 1 'accept' new position\n",
    "        ## else take a random number between 0-1. If it is less than acceptance ration than 'accept' else 'reject' new position\n",
    "        acceptance_ratio = posterior_new / posterior_current\n",
    "        if np.random.rand() < acceptance_ratio:\n",
    "            # Accept new position\n",
    "            current_mean = new_mean\n",
    "        \n",
    "        # add possion in list\n",
    "        posterior.append(current_mean)\n",
    "        \n",
    "    return np.array(posterior)"
   ]
  },
  {
   "cell_type": "code",
   "execution_count": 28,
   "id": "dbf43f59-2d04-4b32-b12f-0888382d727c",
   "metadata": {
    "pycharm": {
     "name": "#%%\n"
    }
   },
   "outputs": [],
   "source": [
    "def get_analytical_posterior(data, x,liklihood_std, prior_mean, prior_std):\n",
    "    '''\n",
    "    This funtion calculate posterior distribution with given likehood and prior\n",
    "    '''\n",
    "    N = len(data)\n",
    "    posterior_std = np.sqrt( np.reciprocal( 1/(prior_std**2) + (N)/(liklihood_std**2) ) )\n",
    "    posterior_mean = (posterior_std**2) *( (prior_mean/prior_std**2) + ((N*data.mean())/liklihood_std**2))\n",
    "\n",
    "    return norm_pdf(x, posterior_mean, posterior_std)"
   ]
  },
  {
   "cell_type": "code",
   "execution_count": 29,
   "id": "65f7fb4b-1a04-4284-8f05-08ce106a5d1e",
   "metadata": {
    "pycharm": {
     "name": "#%%\n"
    }
   },
   "outputs": [],
   "source": [
    "# let's select data used in above quetion\n",
    "data = x"
   ]
  },
  {
   "cell_type": "code",
   "execution_count": 30,
   "id": "6bf2c37d-b21e-4dd3-acb6-82de2c5a46bc",
   "metadata": {
    "pycharm": {
     "name": "#%%\n"
    }
   },
   "outputs": [],
   "source": [
    "# genrate sample to estimate posterior distribution using metropolis algorithm\n",
    "samples = metropolis(data, samples=15000, init_mean=25, proposal_width=0.5, prior_mean=25, prior_std=5.)"
   ]
  },
  {
   "cell_type": "code",
   "execution_count": 31,
   "id": "1f7f75d1-acfa-4883-91c2-3c3eeb959485",
   "metadata": {
    "pycharm": {
     "name": "#%%\n"
    }
   },
   "outputs": [
    {
     "data": {
      "image/png": "[encoded data removed]",
      "text/plain": [
       "<Figure size 432x288 with 1 Axes>"
      ]
     },
     "metadata": {
      "needs_background": "light"
     },
     "output_type": "display_data"
    }
   ],
   "source": [
    "# draw graph\n",
    "# draw estimated histogram\n",
    "kwargs = dict(alpha=0.5, bins=16, density=True, stacked=True)\n",
    "plt.hist(samples[2500:],**kwargs, color='g',label = 'estimated posterior') \n",
    "\n",
    "# draw analytical posterior\n",
    "x = np.linspace(8, 13, 500)\n",
    "analytical_posterior = get_analytical_posterior(data, x,5,25,5)\n",
    "plt.plot(x, analytical_posterior,color='r' ,label='analytical posterior')\n",
    "\n",
    "plt.title(\"Sample distribution and analytical distribution\") \n",
    "plt.legend()\n",
    "plt.show()"
   ]
  },
  {
   "cell_type": "markdown",
   "id": "6319b6dd-4e4f-4fa2-9fd6-f11ab7262343",
   "metadata": {
    "pycharm": {
     "name": "#%% md\n"
    }
   },
   "source": [
    "## Q2 C"
   ]
  },
  {
   "cell_type": "markdown",
   "id": "4e21b30a-d951-41f6-9a06-5abd0dbd7486",
   "metadata": {
    "pycharm": {
     "name": "#%% md\n"
    }
   },
   "source": [
    "#### The proposal_width can not be too small or large. If we take small proposal_width, then it will take more iterations (more samples) to converge. And if we take large proposal_width, then jumps will not get accepted that frequently."
   ]
  },
  {
   "cell_type": "markdown",
   "id": "e968eb6c-707a-4064-bd7f-27826f3dc29d",
   "metadata": {
    "pycharm": {
     "name": "#%% md\n"
    }
   },
   "source": [
    "#### 1. Let's take small proposal_width 0.1 - we will need more iterations to converge with small width"
   ]
  },
  {
   "cell_type": "code",
   "execution_count": 32,
   "id": "eb99f7f8-87ed-446c-b8ca-bfdce5beb01c",
   "metadata": {
    "pycharm": {
     "name": "#%%\n"
    }
   },
   "outputs": [
    {
     "data": {
      "image/png": "[encoded data removed]",
      "text/plain": [
       "<Figure size 432x288 with 1 Axes>"
      ]
     },
     "metadata": {
      "needs_background": "light"
     },
     "output_type": "display_data"
    },
    {
     "data": {
      "image/png": "[encoded data removed]",
      "text/plain": [
       "<Figure size 432x288 with 1 Axes>"
      ]
     },
     "metadata": {
      "needs_background": "light"
     },
     "output_type": "display_data"
    }
   ],
   "source": [
    "samples = metropolis(data, samples=500, init_mean=10, proposal_width=0.1, prior_mean=25, prior_std=5.)\n",
    "x_axis = range(0,len(samples))\n",
    "y_axis = samples\n",
    "plt.title(\"For 500 itteration and 0.1 width\")\n",
    "plt.plot(x_axis,y_axis)\n",
    "plt.show()\n",
    "\n",
    "kwargs = dict(alpha=0.5, bins=16, density=True, stacked=True)\n",
    "plt.hist(samples,**kwargs, color='g',label = 'estimated posterior') \n",
    "x = np.linspace(8, 13, 500)\n",
    "analytical_posterior = get_analytical_posterior(data, x,5,25,5)\n",
    "plt.plot(x, analytical_posterior, label='analytical posterior')\n",
    "plt.title(\"analytical vs estimated for width = 0.1 and 500 itteration\") \n",
    "plt.legend()\n",
    "plt.show()"
   ]
  },
  {
   "cell_type": "markdown",
   "id": "02a5bb7d-c0f2-417b-aaf4-da6548680e5e",
   "metadata": {
    "pycharm": {
     "name": "#%% md\n"
    }
   },
   "source": [
    "#### 2. **Let's take large proposal_width 5** - If we take large width jumps will get accepted less often. And we will require more iterations to converge"
   ]
  },
  {
   "cell_type": "code",
   "execution_count": 33,
   "id": "8e4d6421-f5b3-4c87-9c19-c0035e12bbc9",
   "metadata": {
    "pycharm": {
     "name": "#%%\n"
    }
   },
   "outputs": [
    {
     "data": {
      "image/png": "[encoded data removed]",
      "text/plain": [
       "<Figure size 432x288 with 1 Axes>"
      ]
     },
     "metadata": {
      "needs_background": "light"
     },
     "output_type": "display_data"
    },
    {
     "data": {
      "image/png": "[encoded data removed]",
      "text/plain": [
       "<Figure size 432x288 with 1 Axes>"
      ]
     },
     "metadata": {
      "needs_background": "light"
     },
     "output_type": "display_data"
    }
   ],
   "source": [
    "samples = metropolis(data, samples=500, init_mean=10, proposal_width=5, prior_mean=25, prior_std=5.)\n",
    "x_axis = range(0,len(samples))\n",
    "y_axis = samples\n",
    "plt.title(\"For 500 itteration and 5 width\")\n",
    "plt.plot(x_axis,y_axis)\n",
    "plt.show()\n",
    "\n",
    "kwargs = dict(alpha=0.5, bins=16, density=True, stacked=True)\n",
    "plt.hist(samples,**kwargs, color='g',label = 'estimated posterior') \n",
    "x = np.linspace(8, 13, 500)\n",
    "analytical_posterior = get_analytical_posterior(data, x,5,25,5)\n",
    "plt.plot(x, analytical_posterior, label='analytical posterior')\n",
    "plt.title(\"analytical vs estimated for width = 5 and 500 itteration\") \n",
    "plt.legend()\n",
    "plt.show()"
   ]
  },
  {
   "cell_type": "markdown",
   "id": "702c3ce5-01bc-4d58-a690-48628c1efe83",
   "metadata": {
    "pycharm": {
     "name": "#%% md\n"
    }
   },
   "source": [
    "#### 3. For 5000 itteration proposal width from 0.5 to 2 is good value."
   ]
  },
  {
   "cell_type": "code",
   "execution_count": 34,
   "id": "4f47cc93-8208-417e-8d37-fd024b9a537c",
   "metadata": {
    "pycharm": {
     "name": "#%%\n"
    }
   },
   "outputs": [
    {
     "data": {
      "image/png": "[encoded data removed]",
      "text/plain": [
       "<Figure size 432x288 with 1 Axes>"
      ]
     },
     "metadata": {
      "needs_background": "light"
     },
     "output_type": "display_data"
    },
    {
     "data": {
      "image/png": "[encoded data removed]",
      "text/plain": [
       "<Figure size 432x288 with 1 Axes>"
      ]
     },
     "metadata": {
      "needs_background": "light"
     },
     "output_type": "display_data"
    }
   ],
   "source": [
    "samples = metropolis(data, samples=5000, init_mean=10, proposal_width=0.5, prior_mean=25, prior_std=5.)\n",
    "x_axis = range(0,len(samples))\n",
    "y_axis = samples\n",
    "plt.title(\"For 5000 itteration and 0.5 width\")\n",
    "plt.plot(x_axis,y_axis)\n",
    "plt.show()\n",
    "\n",
    "kwargs = dict(alpha=0.5, bins=16, density=True, stacked=True)\n",
    "plt.hist(samples,**kwargs, color='g',label = 'estimated posterior') \n",
    "x = np.linspace(8, 13, 500)\n",
    "analytical_posterior = get_analytical_posterior(data, x,5,25,5)\n",
    "plt.plot(x, analytical_posterior, label='analytical posterior')\n",
    "plt.title(\"analytical vs estimated for width = 0.5 and 5000 itteration\") \n",
    "plt.legend()\n",
    "plt.show()"
   ]
  },
  {
   "cell_type": "code",
   "execution_count": null,
   "id": "fba2f130-96bc-418d-936b-08a84069365d",
   "metadata": {
    "pycharm": {
     "name": "#%%\n"
    }
   },
   "outputs": [],
   "source": []
  },
  {
   "cell_type": "markdown",
   "id": "cb0ae8a4-e43c-408b-a6f2-58f7fa7df708",
   "metadata": {
    "pycharm": {
     "name": "#%% md\n"
    }
   },
   "source": [
    "#### 4. If we terminated sampling too soon it will not converge to analytical posterior "
   ]
  },
  {
   "cell_type": "code",
   "execution_count": 35,
   "id": "052ba4a7-c377-4a2e-ad35-05d9bed5c8e8",
   "metadata": {
    "pycharm": {
     "name": "#%%\n"
    }
   },
   "outputs": [
    {
     "data": {
      "image/png": "[encoded data removed]",
      "text/plain": [
       "<Figure size 432x288 with 1 Axes>"
      ]
     },
     "metadata": {
      "needs_background": "light"
     },
     "output_type": "display_data"
    },
    {
     "data": {
      "image/png": "[encoded data removed]",
      "text/plain": [
       "<Figure size 432x288 with 1 Axes>"
      ]
     },
     "metadata": {
      "needs_background": "light"
     },
     "output_type": "display_data"
    }
   ],
   "source": [
    "samples = metropolis(data, samples=50, init_mean=10, proposal_width=0.5, prior_mean=25, prior_std=5.)\n",
    "x_axis = range(0,len(samples))\n",
    "y_axis = samples\n",
    "plt.title(\"For 500 itteration and 5 width\")\n",
    "plt.plot(x_axis,y_axis)\n",
    "plt.show()\n",
    "\n",
    "kwargs = dict(alpha=0.5, bins=16, density=True, stacked=True)\n",
    "plt.hist(samples,**kwargs, color='g',label = 'estimated posterior') \n",
    "x = np.linspace(8, 13, 500)\n",
    "analytical_posterior = get_analytical_posterior(data, x,5,25,5)\n",
    "plt.plot(x, analytical_posterior, label='analytical posterior')\n",
    "plt.title(\"analytical vs estimated for width = 0.5 and 50 itteration\") \n",
    "plt.legend()\n",
    "plt.show()"
   ]
  },
  {
   "cell_type": "code",
   "execution_count": null,
   "id": "49a00e5e-545f-4554-9020-3020a5d9e0c1",
   "metadata": {
    "pycharm": {
     "name": "#%%\n"
    }
   },
   "outputs": [],
   "source": []
  },
  {
   "cell_type": "code",
   "execution_count": null,
   "id": "1643908f-3af7-4899-950e-b259e22292fe",
   "metadata": {
    "pycharm": {
     "name": "#%%\n"
    }
   },
   "outputs": [],
   "source": []
  },
  {
   "cell_type": "code",
   "execution_count": null,
   "id": "526e22d0-bd47-4260-81a4-7c2b8de953ac",
   "metadata": {
    "pycharm": {
     "name": "#%%\n"
    }
   },
   "outputs": [],
   "source": []
  },
  {
   "cell_type": "code",
   "execution_count": null,
   "id": "e491e6e6-99de-4b14-bb3c-af5ed8c8902d",
   "metadata": {
    "pycharm": {
     "name": "#%%\n"
    }
   },
   "outputs": [],
   "source": []
  },
  {
   "cell_type": "code",
   "execution_count": null,
   "id": "20ecb4c0-1162-42b3-88b8-981cc2ad9d26",
   "metadata": {
    "pycharm": {
     "name": "#%%\n"
    }
   },
   "outputs": [],
   "source": []
  }
 ],
 "metadata": {
  "kernelspec": {
   "display_name": "Python 3 (ipykernel)",
   "language": "python",
   "name": "python3"
  },
  "language_info": {
   "codemirror_mode": {
    "name": "ipython",
    "version": 3
   },
   "file_extension": ".py",
   "mimetype": "text/x-python",
   "name": "python",
   "nbconvert_exporter": "python",
   "pygments_lexer": "ipython3",
   "version": "3.9.6"
  }
 },
 "nbformat": 4,
 "nbformat_minor": 5
}