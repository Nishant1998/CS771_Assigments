{
 "cells": [
  {
   "cell_type": "code",
   "execution_count": 1,
   "id": "23b50b3c-0f3c-497c-9c2a-5e56e9b26958",
   "metadata": {
    "pycharm": {
     "name": "#%%\n"
    }
   },
   "outputs": [],
   "source": [
    "import numpy as np\n",
    "import matplotlib.pyplot as plt\n",
    "import time"
   ]
  },
  {
   "cell_type": "markdown",
   "id": "7bc50298-4d50-41ce-ac41-c32b65680a81",
   "metadata": {
    "pycharm": {
     "name": "#%% md\n"
    }
   },
   "source": [
    "# Q1"
   ]
  },
  {
   "cell_type": "code",
   "execution_count": 2,
   "id": "651c533a-2251-4045-95c8-9bc0c2fb9b02",
   "metadata": {
    "pycharm": {
     "name": "#%%\n"
    }
   },
   "outputs": [],
   "source": [
    "# Gradient descent funtion to calculate optimal value of x\n",
    "def gradient_descent(gradient, init_, learn_rate, n_iter=50, tol=1e-06):\n",
    "    '''\n",
    "    Parameters\n",
    "    gradient - gradient funtion of a funtion to optimize\n",
    "    init_ -  initial value of x\n",
    "    learn_rate -  learning rate\n",
    "    n_iter - Number of itteration\n",
    "    '''\n",
    "    x = init_\n",
    "    for i in range(n_iter):\n",
    "        delta = -learn_rate * gradient(x)\n",
    "        if np.all(np.abs(delta) <= tol):\n",
    "            break\n",
    "        x += delta\n",
    "    return round(x*1000)/1000"
   ]
  },
  {
   "cell_type": "markdown",
   "id": "a70cade2-b788-4b9b-a6f0-d4a50b1cd069",
   "metadata": {
    "pycharm": {
     "name": "#%% md\n"
    }
   },
   "source": [
    "## Q1 A\n",
    "Funtion 1.  $x^2+3x+4$\n",
    "\n",
    "Funtion 2. $x^4-3x^2+2x$"
   ]
  },
  {
   "cell_type": "code",
   "execution_count": 3,
   "id": "d5119d53-b21a-4cac-946c-a0b8f765ea1d",
   "metadata": {
    "pycharm": {
     "name": "#%%\n"
    }
   },
   "outputs": [],
   "source": [
    "def gradient_fun1(x):\n",
    "    '''\n",
    "    This funtion calculate value of gradient of funtion 1 (x^2 + 3x + 4) for 'x'.\n",
    "    '''\n",
    "    return (2*x + 3)\n",
    "\n",
    "def gradient_fun2(x):\n",
    "    '''\n",
    "    This funtion calculate value of gradient of funtion 2 (x^4 - 3x^2 + 2x) for 'x'.\n",
    "    '''\n",
    "    return (4*x**3 - 6*x + 2)\n"
   ]
  },
  {
   "cell_type": "markdown",
   "id": "3d36e4ae-260c-418c-bfb8-06d576c6f79e",
   "metadata": {
    "pycharm": {
     "name": "#%% md\n"
    }
   },
   "source": [
    "Minima for funtion $x^2+3x+4$"
   ]
  },
  {
   "cell_type": "code",
   "execution_count": 4,
   "id": "8b35f17c-7091-40bd-91f6-4114df9f64dd",
   "metadata": {
    "pycharm": {
     "name": "#%%\n"
    }
   },
   "outputs": [
    {
     "name": "stdout",
     "output_type": "stream",
     "text": [
      "Minima for funtion  (𝑥^2 + 3𝑥 + 4) is at -1.5 \n"
     ]
    }
   ],
   "source": [
    "minima = gradient_descent(gradient_fun1, 0, 0.1, n_iter=50, tol=1e-06)\n",
    "print(\"Minima for funtion  (𝑥^2 + 3𝑥 + 4) is at {} \".format(minima))"
   ]
  },
  {
   "cell_type": "markdown",
   "id": "39bebfc5-118e-45fe-9767-d184bc81a4c5",
   "metadata": {
    "pycharm": {
     "name": "#%% md\n"
    }
   },
   "source": [
    "Minima for funtion $x^4-3x^2+2x$"
   ]
  },
  {
   "cell_type": "code",
   "execution_count": 5,
   "id": "c575be88-a215-4736-bd2b-33ba9a07d83d",
   "metadata": {
    "pycharm": {
     "name": "#%%\n"
    }
   },
   "outputs": [
    {
     "name": "stdout",
     "output_type": "stream",
     "text": [
      "Minima for funtion  (𝑥^4 - 3𝑥^2 + 2x) is at -1.366 \n"
     ]
    }
   ],
   "source": [
    "minima = gradient_descent(gradient_fun2, 0, 0.1, n_iter=50, tol=1e-06)\n",
    "print(\"Minima for funtion  (𝑥^4 - 3𝑥^2 + 2x) is at {} \".format(minima))"
   ]
  },
  {
   "cell_type": "markdown",
   "id": "985f4bb1-6dfb-4cbb-81e2-1ad32fd2678e",
   "metadata": {
    "pycharm": {
     "name": "#%% md\n"
    }
   },
   "source": [
    "\n"
   ]
  },
  {
   "cell_type": "markdown",
   "id": "e1882130-2074-49aa-8a9d-263914d7b990",
   "metadata": {
    "pycharm": {
     "name": "#%% md\n"
    }
   },
   "source": [
    "# Q1 B"
   ]
  },
  {
   "cell_type": "markdown",
   "id": "b171698f-8ac1-47f0-a110-ed814c006708",
   "metadata": {
    "pycharm": {
     "name": "#%% md\n"
    }
   },
   "source": [
    "#### In liner regression we minima for loss funtion\n",
    "\n",
    "### $$ Loss Function = \\frac{1}{n} \\sum_{i=1}^{n} ( \\hat y_i - (aX_i + b) )^2 $$\n",
    "\n",
    "Where,\n",
    "$\\hat y$ is actual value, And $ (aX_n + b) $ is predicted value\n",
    "\n",
    "To find optimal value for a and b. We partial derivation with respect to a and b\n",
    "\n",
    "### $$ \\displaystyle \\frac{\\partial l}{\\partial a} = \\frac{-2}{n} \\sum_{i=1}^{n} X_i (\\hat y_i - (aX_i + b)) $$\n",
    "### $$ \\displaystyle \\frac{\\partial l}{\\partial b} = \\frac{-2}{n} \\sum_{i=1}^{n} (\\hat y_i - (aX_i + b)) $$"
   ]
  },
  {
   "cell_type": "code",
   "execution_count": 6,
   "id": "7729a956-d524-49b2-a6b2-bbd6b6568e85",
   "metadata": {
    "pycharm": {
     "name": "#%%\n"
    }
   },
   "outputs": [],
   "source": [
    "def gradient(X,y,a,b):\n",
    "    '''\n",
    "    This funtion takes gradient of loss funtion of linear regression with respect to 'a' and 'b'.\n",
    "    Paremeter-\n",
    "    X, y - data\n",
    "    a, b - hyperparameter\n",
    "    \n",
    "    returns - gradient of hyperparameter a and b.\n",
    "    '''\n",
    "    n = len(X)\n",
    "    gradient_a = (-2/n) * sum( X * ( y - (a*X + b) ))\n",
    "    gradient_b = (-2/n) * sum( y - (a*X + b) )\n",
    "    return gradient_a, gradient_b"
   ]
  },
  {
   "cell_type": "markdown",
   "id": "e1728396-ca37-4759-b04d-8eb05e3097f3",
   "metadata": {
    "pycharm": {
     "name": "#%% md\n"
    }
   },
   "source": [
    "## Q1 C"
   ]
  },
  {
   "cell_type": "markdown",
   "id": "2b2e2cae-b301-4566-a86f-eecbafdd3827",
   "metadata": {
    "pycharm": {
     "name": "#%% md\n"
    }
   },
   "source": [
    "#### Genrate data"
   ]
  },
  {
   "cell_type": "code",
   "execution_count": 7,
   "id": "502fdeb2-08d8-4f56-bc6b-680a5f45d8f1",
   "metadata": {
    "pycharm": {
     "name": "#%%\n"
    }
   },
   "outputs": [],
   "source": [
    "np.random.seed(0)\n",
    "X = 2.5 * np.random.randn(10000) + 1.5\n",
    "res = 1.5 * np.random.randn(10000)\n",
    "y = 2 + 0.3 * X + res"
   ]
  },
  {
   "cell_type": "code",
   "execution_count": 8,
   "id": "a3e54dfe-1ef0-414b-99b0-acd2200eb1d2",
   "metadata": {
    "pycharm": {
     "name": "#%%\n"
    }
   },
   "outputs": [
    {
     "data": {
      "image/png": "[encoded data removed]",
      "text/plain": [
       "<Figure size 432x288 with 1 Axes>"
      ]
     },
     "metadata": {
      "needs_background": "light"
     },
     "output_type": "display_data"
    }
   ],
   "source": [
    "# plot data\n",
    "plt.scatter(X, y,color= \"green\",\n",
    "            marker= \".\", s=30)\n",
    "plt.show()"
   ]
  },
  {
   "cell_type": "code",
   "execution_count": 9,
   "id": "962d5c65-f93f-4cdc-8afe-3adf59b7218d",
   "metadata": {
    "pycharm": {
     "name": "#%%\n"
    }
   },
   "outputs": [],
   "source": [
    "# Funtion to calculate loss for linear regression.\n",
    "def loss_funtion(X,y,a,b):\n",
    "    return sum((y - (a*X + b))**2)/len(X)\n",
    "    "
   ]
  },
  {
   "cell_type": "code",
   "execution_count": 10,
   "id": "1f25015b-d63c-491d-b60b-f60019575a45",
   "metadata": {
    "pycharm": {
     "name": "#%%\n"
    }
   },
   "outputs": [],
   "source": [
    "# Gradient Descent funtion for linear regression\n",
    "def gradientDescent(gradient,X,y, init_a,init_b, learn_rate, n_iter=50, tol=1e-06):\n",
    "    '''\n",
    "    Parameter -\n",
    "    gradient - gradient funtion of a funtion to optimize\n",
    "    X, y - data\n",
    "    init_a - initial value of a\n",
    "    init_b - initial value of b\n",
    "    learn_rate - learning rate\n",
    "    '''\n",
    "    \n",
    "    \n",
    "    a = init_a\n",
    "    b = init_b\n",
    "    for i in range(n_iter):\n",
    "        # calculate gradient\n",
    "        gradient_a, gradient_b = gradient(X,y,a,b)\n",
    "\n",
    "        delta_a = -learn_rate * gradient_a\n",
    "        delta_b = -learn_rate * gradient_b\n",
    "        if np.all(np.abs(delta_a) <= tol) and np.all(np.abs(delta_b) <= tol):\n",
    "            break\n",
    "        \n",
    "        # update a and b.\n",
    "        a += delta_a\n",
    "        b += delta_b\n",
    "    return (round(a*1000)/1000),(round(b*1000)/1000)"
   ]
  },
  {
   "cell_type": "markdown",
   "id": "0916f371-dc0d-474a-87f1-8e3f910b4c49",
   "metadata": {
    "pycharm": {
     "name": "#%% md\n"
    }
   },
   "source": [
    "__perform gradient descent on X,y with learning rate 0.01 and 500 iteration__"
   ]
  },
  {
   "cell_type": "code",
   "execution_count": 11,
   "id": "cae9e31c-e107-407d-9049-9e71fb469ff5",
   "metadata": {
    "pycharm": {
     "name": "#%%\n"
    }
   },
   "outputs": [
    {
     "name": "stdout",
     "output_type": "stream",
     "text": [
      "(a,b) = (0.296,2.022)\n"
     ]
    }
   ],
   "source": [
    "# Gradient Descent \n",
    "a,b = gradientDescent(gradient,X,y, 0,0, 0.01, n_iter=500, tol=1e-06)\n",
    "print(\"(a,b) = ({},{})\".format(a,b))\n"
   ]
  },
  {
   "cell_type": "code",
   "execution_count": 12,
   "id": "f099352f-fe0e-4335-97f4-969da07defc1",
   "metadata": {
    "pycharm": {
     "name": "#%%\n"
    }
   },
   "outputs": [
    {
     "data": {
      "image/png": "[encoded data removed]",
      "text/plain": [
       "<Figure size 432x288 with 1 Axes>"
      ]
     },
     "metadata": {
      "needs_background": "light"
     },
     "output_type": "display_data"
    }
   ],
   "source": [
    "plt.scatter(X, y,color= \"green\",marker= \".\")\n",
    "x1 = np.linspace(-8,10,10000)\n",
    "y1 = a*x1+b\n",
    "plt.plot(x1, y1, '-r')\n",
    "plt.show()\n"
   ]
  },
  {
   "cell_type": "markdown",
   "id": "4293a703-d9dd-4f39-ae47-93355c087af2",
   "metadata": {
    "pycharm": {
     "name": "#%% md\n"
    }
   },
   "source": [
    "## Q1 D"
   ]
  },
  {
   "cell_type": "markdown",
   "id": "2c47989a-9224-4d71-b60b-506f6993327e",
   "metadata": {
    "pycharm": {
     "name": "#%% md\n"
    }
   },
   "source": [
    "Minibatch stochastic gradient descent"
   ]
  },
  {
   "cell_type": "code",
   "execution_count": null,
   "id": "b56fc835-dc74-47e2-ad4f-c4c0eb8f8c38",
   "metadata": {
    "pycharm": {
     "name": "#%%\n"
    }
   },
   "outputs": [],
   "source": []
  },
  {
   "cell_type": "code",
   "execution_count": 13,
   "id": "528aba17-4926-4c87-85e4-558f754fdb33",
   "metadata": {
    "pycharm": {
     "name": "#%%\n"
    }
   },
   "outputs": [],
   "source": [
    "# Funtion select batch of data at random\n",
    "def minbatch(X,y,batch_size):\n",
    "    XY = np.vstack((X, y)).T\n",
    "    random_indices = np.random.choice(len(X), size=batch_size, replace=False)\n",
    "    random_rows = XY[random_indices, :]\n",
    "    x_min , y_min = np.hsplit(random_rows,2)\n",
    "    \n",
    "    return x_min.reshape(len(x_min)), y_min.reshape(len(y_min))"
   ]
  },
  {
   "cell_type": "code",
   "execution_count": 14,
   "id": "7738ec0a-e8ee-40ca-bb89-6e522ac8b09b",
   "metadata": {
    "pycharm": {
     "name": "#%%\n"
    }
   },
   "outputs": [],
   "source": [
    "def minbatch_SGD(gradient,X,y, init_a,init_b,batch_size, learn_rate, n_iter=50, tol=1e-06):\n",
    "    a = init_a\n",
    "    b = init_b\n",
    "    for i in range(n_iter):\n",
    "        \n",
    "        # select batch of data\n",
    "        x_min , y_min = minbatch(X,y,batch_size)\n",
    "        # calculate gradient \n",
    "        gradient_a, gradient_b = gradient(x_min,y_min,a,b)\n",
    "        \n",
    "        \n",
    "        delta_a = -learn_rate * gradient_a\n",
    "        delta_b = -learn_rate * gradient_b\n",
    "        if np.all(np.abs(delta_a) <= tol) and np.all(np.abs(delta_b) <= tol):\n",
    "            break\n",
    "            \n",
    "        # update a and b    \n",
    "        a += delta_a\n",
    "        b += delta_b\n",
    "    return (round(a*1000)/1000),(round(b*1000)/1000)"
   ]
  },
  {
   "cell_type": "code",
   "execution_count": 15,
   "id": "e8fcd8f2-c443-45c1-ba2d-54452193d78d",
   "metadata": {
    "pycharm": {
     "name": "#%%\n"
    }
   },
   "outputs": [
    {
     "name": "stdout",
     "output_type": "stream",
     "text": [
      "(a,b) = (0.332,2.034)\n",
      "0.4636976718902588\n"
     ]
    }
   ],
   "source": [
    "# Minbatch Gradient Descent\n",
    "tic = time.time()\n",
    "a,b = minbatch_SGD(gradient,X,y, init_a=0 , init_b=0 , batch_size=50 , learn_rate = 0.01, n_iter=500, tol=1e-06)\n",
    "print(\"(a,b) = ({},{})\".format(a,b))\n",
    "toc = time.time()\n",
    "print(toc - tic)"
   ]
  },
  {
   "cell_type": "markdown",
   "id": "04ae3334-8fec-486f-8fb6-8845a0f40b81",
   "metadata": {
    "pycharm": {
     "name": "#%% md\n"
    }
   },
   "source": [
    "## Q1 E"
   ]
  },
  {
   "cell_type": "code",
   "execution_count": 16,
   "id": "c5938df1-24b9-4cf0-b798-a8bef7d16eee",
   "metadata": {
    "pycharm": {
     "name": "#%%\n"
    }
   },
   "outputs": [
    {
     "name": "stdout",
     "output_type": "stream",
     "text": [
      "(a,b) = (0.296,2.022)\n",
      "2.3584213256835938\n"
     ]
    }
   ],
   "source": [
    "# Gradient Descent \n",
    "tic = time.time()\n",
    "a,b = gradientDescent(gradient,X,y, 0,0, 0.01, n_iter=500, tol=1e-06)\n",
    "print(\"(a,b) = ({},{})\".format(a,b))\n",
    "toc = time.time()\n",
    "print(toc - tic)"
   ]
  },
  {
   "cell_type": "code",
   "execution_count": 17,
   "id": "3befe311-15e8-4ac6-a1ab-3ccf145a8d64",
   "metadata": {
    "pycharm": {
     "name": "#%%\n"
    }
   },
   "outputs": [
    {
     "name": "stdout",
     "output_type": "stream",
     "text": [
      "(a,b) = (0.317,2.014)\n",
      "0.6475701332092285\n"
     ]
    }
   ],
   "source": [
    "# Minbatch Gradient Descent\n",
    "tic = time.time()\n",
    "a,b = minbatch_SGD(gradient,X,y, init_a=0 , init_b=0 , batch_size=50 , learn_rate = 0.01, n_iter=500, tol=1e-06)\n",
    "print(\"(a,b) = ({},{})\".format(a,b))\n",
    "toc = time.time()\n",
    "print(toc - tic)"
   ]
  },
  {
   "cell_type": "code",
   "execution_count": 18,
   "id": "53f417a5-e4c1-46a5-8a91-7946d9af0bb3",
   "metadata": {
    "pycharm": {
     "name": "#%%\n"
    }
   },
   "outputs": [
    {
     "name": "stdout",
     "output_type": "stream",
     "text": [
      "(a,b) = (-0.027,1.901)\n",
      "0.5836100578308105\n"
     ]
    }
   ],
   "source": [
    "# SGD\n",
    "tic = time.time()\n",
    "a,b = minbatch_SGD(gradient,X,y, init_a=0 , init_b=0 , batch_size=1 , learn_rate = 0.01, n_iter=500, tol=1e-06)\n",
    "print(\"(a,b) = ({},{})\".format(a,b))\n",
    "toc = time.time()\n",
    "print(toc - tic)"
   ]
  },
  {
   "cell_type": "markdown",
   "id": "783cdf7e-9331-44cf-b15b-f14aa99e526f",
   "metadata": {
    "pycharm": {
     "name": "#%% md\n"
    }
   },
   "source": [
    "#### SGD is faster than Minbatch and Gradient Descent. As it takes single data at a time it is slitly faster but will takes more iteration to converge. Minbatch Gradient Descent give result quickly as compared to gradient decesent. Here batch size of 50 on learning rate 0.01 and number of iteration 500 minbatch Gradient descent give optimal result.   "
   ]
  },
  {
   "cell_type": "markdown",
   "id": "42834952-60a6-456e-8e58-f64b7eb02504",
   "metadata": {
    "pycharm": {
     "name": "#%% md\n"
    }
   },
   "source": [
    "___\n",
    "# Q2"
   ]
  },
  {
   "cell_type": "markdown",
   "id": "6c77c2ee-f7d1-4126-839b-eee2ead4f5a1",
   "metadata": {
    "pycharm": {
     "name": "#%% md\n"
    }
   },
   "source": [
    "### 1. The probability that someone has both cold and a fever"
   ]
  },
  {
   "cell_type": "markdown",
   "id": "b473c1c3-59da-45ef-b737-6dfa83b2a27d",
   "metadata": {
    "pycharm": {
     "name": "#%% md\n"
    }
   },
   "source": [
    ">  Let denote __'Cold'__ by __'C'__  and __'Feaver'__ by __'F'__"
   ]
  },
  {
   "cell_type": "markdown",
   "id": "de98e092-77b8-407d-9d7c-e2e1a508fed4",
   "metadata": {
    "pycharm": {
     "name": "#%% md\n"
    }
   },
   "source": [
    "#### $\n",
    "P( C \\cap F )\\ = P(C) \\times P(F)\\\\\n",
    "\\qquad\\qquad  = 0.02 \\times 0.307\\\\\n",
    "\\qquad\\qquad  = 0.00614\n",
    "$"
   ]
  },
  {
   "cell_type": "markdown",
   "id": "f1368599-af31-4624-a597-48ff46660867",
   "metadata": {
    "pycharm": {
     "name": "#%% md\n"
    }
   },
   "source": [
    "\n",
    "\n"
   ]
  },
  {
   "cell_type": "markdown",
   "id": "fb5caee4-f329-4068-ad3d-ee33312c4cb2",
   "metadata": {
    "pycharm": {
     "name": "#%% md\n"
    }
   },
   "source": [
    "### 2.  The probability that someone who has a cough has a cold"
   ]
  },
  {
   "cell_type": "markdown",
   "id": "5872b688-6651-4b42-90cc-1678b020e90a",
   "metadata": {
    "pycharm": {
     "name": "#%% md\n"
    }
   },
   "source": [
    ">   Let denote __'Cold'__ by __'C'__, __'Cough'__ by __'O'__ , __'Lund Disease'__ by __'D'__  and __'Smoke'__ by __'S'__"
   ]
  },
  {
   "cell_type": "markdown",
   "id": "4be0d57f-9bc5-4869-afd7-8b4cb6898542",
   "metadata": {
    "pycharm": {
     "name": "#%% md\n"
    }
   },
   "source": [
    "$$ \n",
    "P(C \\,|\\, O) =  \\frac{P(O \\,\\cap\\, C )}{P(O)} \n",
    "$$\n",
    "\n",
    "__Where,__\n",
    "$\n",
    "\\\\\n",
    "P(O \\cap C ) = P(D \\,\\cap\\, C \\,\\cap\\, O)     \\quad+\\quad    P(\\lnot D\\, \\,\\cap\\, C \\,\\cap\\, O)\n",
    "$\n",
    "\n"
   ]
  },
  {
   "cell_type": "markdown",
   "id": "f7aa9c4d-fe44-4d06-aa52-38cbe1f34171",
   "metadata": {
    "pycharm": {
     "name": "#%% md\n"
    }
   },
   "source": [
    "$\n",
    "P(O) = P(D \\,\\cap\\, C \\,\\cap\\, O)    \\quad+\\quad     P(D \\,\\cap\\, \\lnot C\\, \\,\\cap\\, O) \\quad+\\quad \n",
    "           P(\\lnot D\\, \\,\\cap\\, C \\,\\cap\\, O) \\quad+\\quad P(\\lnot D\\, \\,\\cap\\, \\lnot C\\, \\,\\cap\\, O)    \n",
    "$"
   ]
  },
  {
   "cell_type": "markdown",
   "id": "2c86ff2c-4b5b-4c4d-bdc2-4499699968ab",
   "metadata": {
    "pycharm": {
     "name": "#%% md\n"
    }
   },
   "source": [
    "> Now calculate required probability"
   ]
  },
  {
   "cell_type": "markdown",
   "id": "0ad795ae-ded3-465b-aac2-abf013895fad",
   "metadata": {
    "pycharm": {
     "name": "#%% md\n"
    }
   },
   "source": [
    "1. __Probability of having Lund Disease__\n",
    "$\n",
    "P(D) = P(D \\,|\\, S) \\times P(S) \\quad+\\quad P(D \\,|\\, \\lnot S) \\times P(\\lnot S) \\\\\n",
    "\\qquad = 0.1009 \\times 0.2 \\quad+\\quad 0.001 \\times 0.8 \\\\\n",
    "\\qquad = 0.021\n",
    "$"
   ]
  },
  {
   "cell_type": "markdown",
   "id": "7c09a830-f95e-47e7-82e0-2b1aa34a185d",
   "metadata": {
    "pycharm": {
     "name": "#%% md\n"
    }
   },
   "source": [
    "  "
   ]
  },
  {
   "cell_type": "markdown",
   "id": "166d4bd5-de42-4d04-b19d-c6f0957d80cf",
   "metadata": {
    "pycharm": {
     "name": "#%% md\n"
    }
   },
   "source": [
    "2. __Probability of having not Lund Disease__\n",
    "$\n",
    "P(\\lnot D) = P(\\lnot D \\,|\\, S) \\times P(S) \\quad+\\quad P(\\lnot D \\,|\\, \\lnot S) \\times P(\\lnot S) \\\\\n",
    "\\qquad = 0.8991 \\times 0.2 \\quad+\\quad 0.999 \\times 0.8 \\\\\n",
    "\\qquad = 0.979\n",
    "$"
   ]
  },
  {
   "cell_type": "markdown",
   "id": "988b72e9-66cb-4e25-af96-055b41b47a35",
   "metadata": {
    "pycharm": {
     "name": "#%% md\n"
    }
   },
   "source": [
    "\n"
   ]
  },
  {
   "cell_type": "markdown",
   "id": "1b2df157-307a-4f22-bff9-69711a0585c7",
   "metadata": {
    "pycharm": {
     "name": "#%% md\n"
    }
   },
   "source": [
    "3. __Probability of having _Lund Disease_ And _Cold_ And _Cough_ .__\n",
    "$\n",
    "P(D \\,\\cap\\, C \\,\\cap\\, O) \\;= P(D) \\;\\times\\; P(C) \\;\\times\\; P(O \\;|\\; D ,\\, C)\\\\\n",
    "\\qquad\\qquad\\qquad = 0.021 \\;\\times\\; 0.02 \\;\\times\\; 0.7525 \\\\\n",
    "\\qquad\\qquad\\qquad = 3.1605 \\times 10^{-4} \n",
    "$"
   ]
  },
  {
   "cell_type": "markdown",
   "id": "175e2700-aed2-433d-b2cc-dd6ede548e95",
   "metadata": {
    "pycharm": {
     "name": "#%% md\n"
    }
   },
   "source": [
    " "
   ]
  },
  {
   "cell_type": "markdown",
   "id": "0afef2f9-77fc-4106-929d-3850f9fd4ec3",
   "metadata": {
    "pycharm": {
     "name": "#%% md\n"
    }
   },
   "source": [
    "4. __Probability of having _Lund Disease_ And not  _Cold_ And _Cough_ .__\n",
    "$\n",
    "P(D \\,\\cap\\, \\lnot C \\,\\cap\\, O) \\;= P(D) \\;\\times\\; P(\\lnot C) \\;\\times\\; P(O \\;|\\; D ,\\, \\lnot C)\\\\\n",
    "\\qquad\\qquad\\qquad = 0.021 \\;\\times\\; 0.98 \\;\\times\\; 0.505 \\\\\n",
    "\\qquad\\qquad\\qquad = 0.0104\n",
    "$"
   ]
  },
  {
   "cell_type": "markdown",
   "id": "98d077cb-fecb-496c-bcc7-cc2b93854d57",
   "metadata": {
    "pycharm": {
     "name": "#%% md\n"
    }
   },
   "source": [
    "5. __Probability of not having _Lund Disease_ And having _Cold_ And _Cough_ .__\n",
    "$\n",
    "P(\\lnot D \\,\\cap\\, C \\,\\cap\\, O) \\;= P(\\lnot D) \\;\\times\\; P(C) \\;\\times\\; P(O \\;|\\; \\lnot D ,\\, C)\\\\\n",
    "\\qquad\\qquad\\qquad = 0.979 \\;\\times\\; 0.02 \\;\\times\\; 0.505 \\\\\n",
    "\\qquad\\qquad\\qquad = 9.8879 \\times 10^{-3} \n",
    "$"
   ]
  },
  {
   "cell_type": "markdown",
   "id": "0786aa97-981a-4bc6-bcb0-c0ee4ac68675",
   "metadata": {
    "pycharm": {
     "name": "#%% md\n"
    }
   },
   "source": [
    "6. __Probability of not having _Lund Disease_ , _Cold_ And not having _Cough_ .__\n",
    "$\n",
    "P(\\lnot D \\,\\cap\\, \\lnot C \\,\\cap\\, O) \\;= P(\\lnot D) \\;\\times\\; P(\\lnot C) \\;\\times\\; P(O \\;|\\; \\lnot D ,\\, \\lnot C)\\\\\n",
    "\\qquad\\qquad\\qquad = 0.979 \\;\\times\\; 0.98 \\;\\times\\; 0.01 \\\\\n",
    "\\qquad\\qquad\\qquad = 9.5942 \\times 10^{-3}\n",
    "$"
   ]
  },
  {
   "cell_type": "markdown",
   "id": "af71342e-7ef9-4ea6-9ec3-8facc7d701c9",
   "metadata": {
    "pycharm": {
     "name": "#%% md\n"
    }
   },
   "source": [
    " "
   ]
  },
  {
   "cell_type": "markdown",
   "id": "3d7fcc5f-d4c0-4926-b7c0-491b8c887c00",
   "metadata": {
    "pycharm": {
     "name": "#%% md\n"
    }
   },
   "source": [
    "7. __Probability of having Cough__\n",
    "$\n",
    "P(O) = P(D \\,\\cap\\, C \\,\\cap\\, O)    \\quad+\\quad     P(D \\,\\cap\\, \\lnot C\\, \\,\\cap\\, O) \\quad+\\quad \n",
    "           P(\\lnot D\\, \\,\\cap\\, C \\,\\cap\\, O) \\quad+\\quad P(\\lnot D\\, \\,\\cap\\, \\lnot C\\, \\,\\cap\\, O)    \\\\\n",
    "$\n",
    "Now from 3, 4, 5 and 6\n",
    "$\n",
    "\\\\P(O) = 3.1605 \\times 10^{-4} \\quad+\\quad 0.0104 \\quad+\\quad 9.8879 \\times 10^{-3} \\quad+\\quad 9.5942 \\times 10^{-3}\n",
    "\\\\\\qquad = 0.0302\n",
    "$"
   ]
  },
  {
   "cell_type": "markdown",
   "id": "4eefb4a7-c282-4f56-9e11-96affc8a95cf",
   "metadata": {
    "pycharm": {
     "name": "#%% md\n"
    }
   },
   "source": [
    "8. __Now Probability of having Cough and Cold__\n",
    "$\n",
    "P(O \\cap C ) = P(D \\,\\cap\\, C \\,\\cap\\, O)     \\quad+\\quad    P(\\lnot D\\, \\,\\cap\\, C \\,\\cap\\, O) \\\\\n",
    "$\n",
    "Now from 3, 4, 5 and 6\n",
    "$\n",
    "\\\\ P(O \\cap C ) = 3.1605 \\times 10^{-4} \\quad+\\quad  9.8879 \\times 10^{-3}\n",
    "\\\\\\qquad = 0.0102\n",
    "$"
   ]
  },
  {
   "cell_type": "markdown",
   "id": "651dab05-ef22-4d08-bf07-4d917ec8d874",
   "metadata": {
    "pycharm": {
     "name": "#%% md\n"
    }
   },
   "source": [
    "  "
   ]
  },
  {
   "cell_type": "markdown",
   "id": "ee242704-1810-422e-acbd-f6f54eee7134",
   "metadata": {
    "pycharm": {
     "name": "#%% md\n"
    }
   },
   "source": [
    "> ### Now the probability that someone who has a cough has a cold is."
   ]
  },
  {
   "cell_type": "markdown",
   "id": "c074c91a-ad74-40d9-9859-a34c00a59b68",
   "metadata": {
    "pycharm": {
     "name": "#%% md\n"
    }
   },
   "source": [
    "#### $$ \n",
    "P(C \\,|\\, O) =  \\frac{P(O \\,\\cap\\, C )}{P(O)} = \\frac{0.0102}{0.0302} = 0.3377\n",
    "$$"
   ]
  },
  {
   "cell_type": "markdown",
   "id": "1b1cf87d-97eb-40e2-80a2-3ea0f5801355",
   "metadata": {
    "pycharm": {
     "name": "#%% md\n"
    }
   },
   "source": [
    "___\n",
    "# Q3"
   ]
  },
  {
   "cell_type": "markdown",
   "id": "ee23ceba-3b04-4148-9d6a-653fdafcf581",
   "metadata": {
    "pycharm": {
     "name": "#%% md\n"
    }
   },
   "source": [
    "#### To derive MLE for the parameters of a k-sided multinomial distribution. Where multinomial distribution is given by\n",
    "\n",
    "### $$\n",
    "P(X_1 = x_1,..., X_k = x_k) = \\frac{n!}{x_1!x_2!...x_k!}\\times(p_1^{x_1}p_2^{x_2}...p_k^{x_k}) \n",
    "$$\n",
    "\n",
    "#### Where,\n",
    "#### 1. n is independent trial\n",
    "#### 2. k is mutually exclusive outcomes\n",
    "#### 3. $ \\sum_{i=1}^{k} p_i = 1 $\n",
    "#### 4. $ \\sum_{i=1}^{k} x_i = n $"
   ]
  },
  {
   "cell_type": "markdown",
   "id": "7da4a58b-afe9-42a4-8ec2-e5731afe74a4",
   "metadata": {
    "pycharm": {
     "name": "#%% md\n"
    }
   },
   "source": [
    "### Multinomial distribution can be written as\n",
    "### $$\n",
    "P(X_1 = x_1,..., X_k = x_k) = n! \\prod_{i=1}^{k} \\frac{p_i^{x_i}}{x_i!}\n",
    "$$"
   ]
  },
  {
   "cell_type": "markdown",
   "id": "1beee270-b975-4c6b-a123-baf54ff93b19",
   "metadata": {
    "pycharm": {
     "name": "#%% md\n"
    }
   },
   "source": [
    "#### Now Log Likelihood of multinomial distribution is\n",
    "### $$\n",
    "LL(\\mathbf{p}) = log(n!) + log \\prod_{i=1}^{k} \\frac{p_i^{x_i}}{x_i!}\\\\\n",
    "\\qquad\\qquad\\qquad\\qquad\\;= log(n!) + \\sum_{i=1}^{k} x_i log(p_i) - \\sum_{i=1}^{k} log(x_i!)\n",
    "$$"
   ]
  },
  {
   "cell_type": "markdown",
   "id": "580ea66e-4589-48f5-8909-76d6f75052b8",
   "metadata": {
    "pycharm": {
     "name": "#%% md\n"
    }
   },
   "source": [
    "#### We us Lagrange multipliers due to constrain on multinomial distribution"
   ]
  },
  {
   "cell_type": "markdown",
   "id": "f96fd6fb-0739-4870-85ef-a34eaa268c99",
   "metadata": {
    "pycharm": {
     "name": "#%% md\n"
    }
   },
   "source": [
    "### $$\n",
    "L(\\mathbf{p},\\lambda) = log(n!) + \\sum_{i=1}^{k} x_i log(p_i) - \\sum_{i=1}^{k} log(x_i!) + \\lambda (1 - \\sum_{i=1}^{k} p_i)\n",
    "$$\n",
    "\n",
    "##### Where $\\lambda$ is Lagrange multipliers."
   ]
  },
  {
   "cell_type": "markdown",
   "id": "aa56ac9d-b77a-489e-996f-c08a25ac6b98",
   "metadata": {
    "pycharm": {
     "name": "#%% md\n"
    }
   },
   "source": [
    "#### Now to optimize the funtion L we take partial derivation with respect to $p_i$ and $\\lambda$ "
   ]
  },
  {
   "cell_type": "markdown",
   "id": "f4731716-1cf0-4a60-98f0-0e0b606670e6",
   "metadata": {
    "pycharm": {
     "name": "#%% md\n"
    }
   },
   "source": [
    "## $\n",
    "\\frac{\\partial L(p_i,\\lambda)}{\\partial p_i} = \\frac{x_i}{p_i} - \\lambda = 0\n",
    "$"
   ]
  },
  {
   "cell_type": "markdown",
   "id": "4221b98e-2c4c-4711-aabd-cce5617081c6",
   "metadata": {
    "pycharm": {
     "name": "#%% md\n"
    }
   },
   "source": [
    "## $\n",
    "\\frac{\\partial L(p_i,\\lambda)}{\\partial \\lambda} = 1 - \\sum_{i=1}^{k} p_i = 0\n",
    "$"
   ]
  },
  {
   "cell_type": "markdown",
   "id": "9de75fd0-16f2-4077-bfd7-06a600e566ba",
   "metadata": {
    "pycharm": {
     "name": "#%% md\n"
    }
   },
   "source": [
    "### From partial derivation of L with respect to $p_i$ we get\n",
    "### $\\lambda p_i = x_i$\n",
    "#### then\n",
    "### $\\lambda \\sum_{i=1}^{k} p_i = \\sum_{i=1}^{k} x_i$\n",
    "#### We know that $\\sum_{i=1}^{k} p_i = 1 $ and $\\sum_{i=1}^{k} x_i = n$\n",
    "#### Then $\\lambda$ = n"
   ]
  },
  {
   "cell_type": "markdown",
   "id": "ed95e544-95b3-4a49-b318-83f2681e9303",
   "metadata": {
    "pycharm": {
     "name": "#%% md\n"
    }
   },
   "source": [
    "\n",
    "\n"
   ]
  },
  {
   "cell_type": "markdown",
   "id": "0469e5a7-e424-4dc9-b8e7-70f56ada6e4b",
   "metadata": {
    "pycharm": {
     "name": "#%% md\n"
    }
   },
   "source": [
    "### Now MLE for multinomial distribution is \n",
    "\n",
    "### $$\n",
    "P_{i_{MLE}} = \\frac{x_i}{n}\n",
    "$$"
   ]
  },
  {
   "cell_type": "code",
   "execution_count": null,
   "id": "4c3ff3dd-4277-434f-b49f-23abcde07205",
   "metadata": {
    "pycharm": {
     "name": "#%%\n"
    }
   },
   "outputs": [],
   "source": []
  }
 ],
 "metadata": {
  "kernelspec": {
   "display_name": "Python 3 (ipykernel)",
   "language": "python",
   "name": "python3"
  },
  "language_info": {
   "codemirror_mode": {
    "name": "ipython",
    "version": 3
   },
   "file_extension": ".py",
   "mimetype": "text/x-python",
   "name": "python",
   "nbconvert_exporter": "python",
   "pygments_lexer": "ipython3",
   "version": "3.9.6"
  }
 },
 "nbformat": 4,
 "nbformat_minor": 5
}